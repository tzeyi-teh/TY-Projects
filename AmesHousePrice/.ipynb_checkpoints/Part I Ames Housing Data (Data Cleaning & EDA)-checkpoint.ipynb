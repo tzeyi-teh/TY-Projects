{
 "cells": [
  {
   "cell_type": "markdown",
   "metadata": {},
   "source": [
    "# Predicting the Sales Price of Houses in Ames"
   ]
  },
  {
   "cell_type": "markdown",
   "metadata": {},
   "source": [
    "With the help of regression modelling, predicting the sales price of a specific house is made possible with the help of various quantitative and qualitative housing data. Before all that, the data provided will undergo data cleaning and Exploratory Data Analysis (EDA) to further understand certain correlations and trends between the independent variables and the target variable."
   ]
  },
  {
   "cell_type": "markdown",
   "metadata": {},
   "source": [
    "## Importing Libraries"
   ]
  },
  {
   "cell_type": "code",
   "execution_count": 1,
   "metadata": {},
   "outputs": [],
   "source": [
    "import pandas as pd\n",
    "import numpy as np\n",
    "import seaborn as sns\n",
    "import matplotlib.pyplot as plt\n",
    "\n",
    "\n",
    "%matplotlib inline"
   ]
  },
  {
   "cell_type": "markdown",
   "metadata": {},
   "source": [
    "## Importing Data"
   ]
  },
  {
   "cell_type": "code",
   "execution_count": 2,
   "metadata": {},
   "outputs": [],
   "source": [
    "#Importing data\n",
    "\n",
    "train = pd.read_csv('datasets/train.csv')\n"
   ]
  },
  {
   "cell_type": "markdown",
   "metadata": {},
   "source": [
    "## Data Cleaning\n",
    "\n",
    "This is mainly to establish the types of data that are within the dataframe and to identify the null values within the columns."
   ]
  },
  {
   "cell_type": "code",
   "execution_count": 3,
   "metadata": {},
   "outputs": [
    {
     "data": {
      "text/html": [
       "<div>\n",
       "<style scoped>\n",
       "    .dataframe tbody tr th:only-of-type {\n",
       "        vertical-align: middle;\n",
       "    }\n",
       "\n",
       "    .dataframe tbody tr th {\n",
       "        vertical-align: top;\n",
       "    }\n",
       "\n",
       "    .dataframe thead th {\n",
       "        text-align: right;\n",
       "    }\n",
       "</style>\n",
       "<table border=\"1\" class=\"dataframe\">\n",
       "  <thead>\n",
       "    <tr style=\"text-align: right;\">\n",
       "      <th></th>\n",
       "      <th>Id</th>\n",
       "      <th>PID</th>\n",
       "      <th>MS SubClass</th>\n",
       "      <th>MS Zoning</th>\n",
       "      <th>Lot Frontage</th>\n",
       "      <th>Lot Area</th>\n",
       "      <th>Street</th>\n",
       "      <th>Alley</th>\n",
       "      <th>Lot Shape</th>\n",
       "      <th>Land Contour</th>\n",
       "      <th>...</th>\n",
       "      <th>Screen Porch</th>\n",
       "      <th>Pool Area</th>\n",
       "      <th>Pool QC</th>\n",
       "      <th>Fence</th>\n",
       "      <th>Misc Feature</th>\n",
       "      <th>Misc Val</th>\n",
       "      <th>Mo Sold</th>\n",
       "      <th>Yr Sold</th>\n",
       "      <th>Sale Type</th>\n",
       "      <th>SalePrice</th>\n",
       "    </tr>\n",
       "  </thead>\n",
       "  <tbody>\n",
       "    <tr>\n",
       "      <th>0</th>\n",
       "      <td>109</td>\n",
       "      <td>533352170</td>\n",
       "      <td>60</td>\n",
       "      <td>RL</td>\n",
       "      <td>NaN</td>\n",
       "      <td>13517</td>\n",
       "      <td>Pave</td>\n",
       "      <td>NaN</td>\n",
       "      <td>IR1</td>\n",
       "      <td>Lvl</td>\n",
       "      <td>...</td>\n",
       "      <td>0</td>\n",
       "      <td>0</td>\n",
       "      <td>NaN</td>\n",
       "      <td>NaN</td>\n",
       "      <td>NaN</td>\n",
       "      <td>0</td>\n",
       "      <td>3</td>\n",
       "      <td>2010</td>\n",
       "      <td>WD</td>\n",
       "      <td>130500</td>\n",
       "    </tr>\n",
       "    <tr>\n",
       "      <th>1</th>\n",
       "      <td>544</td>\n",
       "      <td>531379050</td>\n",
       "      <td>60</td>\n",
       "      <td>RL</td>\n",
       "      <td>43.0</td>\n",
       "      <td>11492</td>\n",
       "      <td>Pave</td>\n",
       "      <td>NaN</td>\n",
       "      <td>IR1</td>\n",
       "      <td>Lvl</td>\n",
       "      <td>...</td>\n",
       "      <td>0</td>\n",
       "      <td>0</td>\n",
       "      <td>NaN</td>\n",
       "      <td>NaN</td>\n",
       "      <td>NaN</td>\n",
       "      <td>0</td>\n",
       "      <td>4</td>\n",
       "      <td>2009</td>\n",
       "      <td>WD</td>\n",
       "      <td>220000</td>\n",
       "    </tr>\n",
       "    <tr>\n",
       "      <th>2</th>\n",
       "      <td>153</td>\n",
       "      <td>535304180</td>\n",
       "      <td>20</td>\n",
       "      <td>RL</td>\n",
       "      <td>68.0</td>\n",
       "      <td>7922</td>\n",
       "      <td>Pave</td>\n",
       "      <td>NaN</td>\n",
       "      <td>Reg</td>\n",
       "      <td>Lvl</td>\n",
       "      <td>...</td>\n",
       "      <td>0</td>\n",
       "      <td>0</td>\n",
       "      <td>NaN</td>\n",
       "      <td>NaN</td>\n",
       "      <td>NaN</td>\n",
       "      <td>0</td>\n",
       "      <td>1</td>\n",
       "      <td>2010</td>\n",
       "      <td>WD</td>\n",
       "      <td>109000</td>\n",
       "    </tr>\n",
       "    <tr>\n",
       "      <th>3</th>\n",
       "      <td>318</td>\n",
       "      <td>916386060</td>\n",
       "      <td>60</td>\n",
       "      <td>RL</td>\n",
       "      <td>73.0</td>\n",
       "      <td>9802</td>\n",
       "      <td>Pave</td>\n",
       "      <td>NaN</td>\n",
       "      <td>Reg</td>\n",
       "      <td>Lvl</td>\n",
       "      <td>...</td>\n",
       "      <td>0</td>\n",
       "      <td>0</td>\n",
       "      <td>NaN</td>\n",
       "      <td>NaN</td>\n",
       "      <td>NaN</td>\n",
       "      <td>0</td>\n",
       "      <td>4</td>\n",
       "      <td>2010</td>\n",
       "      <td>WD</td>\n",
       "      <td>174000</td>\n",
       "    </tr>\n",
       "    <tr>\n",
       "      <th>4</th>\n",
       "      <td>255</td>\n",
       "      <td>906425045</td>\n",
       "      <td>50</td>\n",
       "      <td>RL</td>\n",
       "      <td>82.0</td>\n",
       "      <td>14235</td>\n",
       "      <td>Pave</td>\n",
       "      <td>NaN</td>\n",
       "      <td>IR1</td>\n",
       "      <td>Lvl</td>\n",
       "      <td>...</td>\n",
       "      <td>0</td>\n",
       "      <td>0</td>\n",
       "      <td>NaN</td>\n",
       "      <td>NaN</td>\n",
       "      <td>NaN</td>\n",
       "      <td>0</td>\n",
       "      <td>3</td>\n",
       "      <td>2010</td>\n",
       "      <td>WD</td>\n",
       "      <td>138500</td>\n",
       "    </tr>\n",
       "  </tbody>\n",
       "</table>\n",
       "<p>5 rows × 81 columns</p>\n",
       "</div>"
      ],
      "text/plain": [
       "    Id        PID  MS SubClass MS Zoning  Lot Frontage  Lot Area Street Alley  \\\n",
       "0  109  533352170           60        RL           NaN     13517   Pave   NaN   \n",
       "1  544  531379050           60        RL          43.0     11492   Pave   NaN   \n",
       "2  153  535304180           20        RL          68.0      7922   Pave   NaN   \n",
       "3  318  916386060           60        RL          73.0      9802   Pave   NaN   \n",
       "4  255  906425045           50        RL          82.0     14235   Pave   NaN   \n",
       "\n",
       "  Lot Shape Land Contour  ... Screen Porch Pool Area Pool QC Fence  \\\n",
       "0       IR1          Lvl  ...            0         0     NaN   NaN   \n",
       "1       IR1          Lvl  ...            0         0     NaN   NaN   \n",
       "2       Reg          Lvl  ...            0         0     NaN   NaN   \n",
       "3       Reg          Lvl  ...            0         0     NaN   NaN   \n",
       "4       IR1          Lvl  ...            0         0     NaN   NaN   \n",
       "\n",
       "  Misc Feature Misc Val Mo Sold Yr Sold  Sale Type  SalePrice  \n",
       "0          NaN        0       3    2010        WD      130500  \n",
       "1          NaN        0       4    2009        WD      220000  \n",
       "2          NaN        0       1    2010        WD      109000  \n",
       "3          NaN        0       4    2010        WD      174000  \n",
       "4          NaN        0       3    2010        WD      138500  \n",
       "\n",
       "[5 rows x 81 columns]"
      ]
     },
     "execution_count": 3,
     "metadata": {},
     "output_type": "execute_result"
    }
   ],
   "source": [
    "#Data Checking\n",
    "\n",
    "train.head()"
   ]
  },
  {
   "cell_type": "code",
   "execution_count": 4,
   "metadata": {},
   "outputs": [
    {
     "data": {
      "text/plain": [
       "Id                int64\n",
       "PID               int64\n",
       "MS SubClass       int64\n",
       "MS Zoning        object\n",
       "Lot Frontage    float64\n",
       "                 ...   \n",
       "Misc Val          int64\n",
       "Mo Sold           int64\n",
       "Yr Sold           int64\n",
       "Sale Type        object\n",
       "SalePrice         int64\n",
       "Length: 81, dtype: object"
      ]
     },
     "execution_count": 4,
     "metadata": {},
     "output_type": "execute_result"
    }
   ],
   "source": [
    "train.dtypes"
   ]
  },
  {
   "cell_type": "code",
   "execution_count": 5,
   "metadata": {},
   "outputs": [
    {
     "data": {
      "text/plain": [
       "Id                0\n",
       "PID               0\n",
       "MS SubClass       0\n",
       "MS Zoning         0\n",
       "Lot Frontage    330\n",
       "               ... \n",
       "Misc Val          0\n",
       "Mo Sold           0\n",
       "Yr Sold           0\n",
       "Sale Type         0\n",
       "SalePrice         0\n",
       "Length: 81, dtype: int64"
      ]
     },
     "execution_count": 5,
     "metadata": {},
     "output_type": "execute_result"
    }
   ],
   "source": [
    "train.isnull().sum()"
   ]
  },
  {
   "cell_type": "code",
   "execution_count": 6,
   "metadata": {},
   "outputs": [],
   "source": [
    "# Function to convert letters to lowercase and spaces to underscores (_)\n",
    "\n",
    "def clean(data):\n",
    "    train.columns = train.columns.str.lower()\n",
    "    train.columns = train.columns.str.replace(' ', '_')\n",
    "    \n",
    "    return data"
   ]
  },
  {
   "cell_type": "code",
   "execution_count": 7,
   "metadata": {},
   "outputs": [
    {
     "data": {
      "text/html": [
       "<div>\n",
       "<style scoped>\n",
       "    .dataframe tbody tr th:only-of-type {\n",
       "        vertical-align: middle;\n",
       "    }\n",
       "\n",
       "    .dataframe tbody tr th {\n",
       "        vertical-align: top;\n",
       "    }\n",
       "\n",
       "    .dataframe thead th {\n",
       "        text-align: right;\n",
       "    }\n",
       "</style>\n",
       "<table border=\"1\" class=\"dataframe\">\n",
       "  <thead>\n",
       "    <tr style=\"text-align: right;\">\n",
       "      <th></th>\n",
       "      <th>id</th>\n",
       "      <th>pid</th>\n",
       "      <th>ms_subclass</th>\n",
       "      <th>ms_zoning</th>\n",
       "      <th>lot_frontage</th>\n",
       "      <th>lot_area</th>\n",
       "      <th>street</th>\n",
       "      <th>alley</th>\n",
       "      <th>lot_shape</th>\n",
       "      <th>land_contour</th>\n",
       "      <th>...</th>\n",
       "      <th>screen_porch</th>\n",
       "      <th>pool_area</th>\n",
       "      <th>pool_qc</th>\n",
       "      <th>fence</th>\n",
       "      <th>misc_feature</th>\n",
       "      <th>misc_val</th>\n",
       "      <th>mo_sold</th>\n",
       "      <th>yr_sold</th>\n",
       "      <th>sale_type</th>\n",
       "      <th>saleprice</th>\n",
       "    </tr>\n",
       "  </thead>\n",
       "  <tbody>\n",
       "    <tr>\n",
       "      <th>0</th>\n",
       "      <td>109</td>\n",
       "      <td>533352170</td>\n",
       "      <td>60</td>\n",
       "      <td>RL</td>\n",
       "      <td>NaN</td>\n",
       "      <td>13517</td>\n",
       "      <td>Pave</td>\n",
       "      <td>NaN</td>\n",
       "      <td>IR1</td>\n",
       "      <td>Lvl</td>\n",
       "      <td>...</td>\n",
       "      <td>0</td>\n",
       "      <td>0</td>\n",
       "      <td>NaN</td>\n",
       "      <td>NaN</td>\n",
       "      <td>NaN</td>\n",
       "      <td>0</td>\n",
       "      <td>3</td>\n",
       "      <td>2010</td>\n",
       "      <td>WD</td>\n",
       "      <td>130500</td>\n",
       "    </tr>\n",
       "    <tr>\n",
       "      <th>1</th>\n",
       "      <td>544</td>\n",
       "      <td>531379050</td>\n",
       "      <td>60</td>\n",
       "      <td>RL</td>\n",
       "      <td>43.0</td>\n",
       "      <td>11492</td>\n",
       "      <td>Pave</td>\n",
       "      <td>NaN</td>\n",
       "      <td>IR1</td>\n",
       "      <td>Lvl</td>\n",
       "      <td>...</td>\n",
       "      <td>0</td>\n",
       "      <td>0</td>\n",
       "      <td>NaN</td>\n",
       "      <td>NaN</td>\n",
       "      <td>NaN</td>\n",
       "      <td>0</td>\n",
       "      <td>4</td>\n",
       "      <td>2009</td>\n",
       "      <td>WD</td>\n",
       "      <td>220000</td>\n",
       "    </tr>\n",
       "    <tr>\n",
       "      <th>2</th>\n",
       "      <td>153</td>\n",
       "      <td>535304180</td>\n",
       "      <td>20</td>\n",
       "      <td>RL</td>\n",
       "      <td>68.0</td>\n",
       "      <td>7922</td>\n",
       "      <td>Pave</td>\n",
       "      <td>NaN</td>\n",
       "      <td>Reg</td>\n",
       "      <td>Lvl</td>\n",
       "      <td>...</td>\n",
       "      <td>0</td>\n",
       "      <td>0</td>\n",
       "      <td>NaN</td>\n",
       "      <td>NaN</td>\n",
       "      <td>NaN</td>\n",
       "      <td>0</td>\n",
       "      <td>1</td>\n",
       "      <td>2010</td>\n",
       "      <td>WD</td>\n",
       "      <td>109000</td>\n",
       "    </tr>\n",
       "    <tr>\n",
       "      <th>3</th>\n",
       "      <td>318</td>\n",
       "      <td>916386060</td>\n",
       "      <td>60</td>\n",
       "      <td>RL</td>\n",
       "      <td>73.0</td>\n",
       "      <td>9802</td>\n",
       "      <td>Pave</td>\n",
       "      <td>NaN</td>\n",
       "      <td>Reg</td>\n",
       "      <td>Lvl</td>\n",
       "      <td>...</td>\n",
       "      <td>0</td>\n",
       "      <td>0</td>\n",
       "      <td>NaN</td>\n",
       "      <td>NaN</td>\n",
       "      <td>NaN</td>\n",
       "      <td>0</td>\n",
       "      <td>4</td>\n",
       "      <td>2010</td>\n",
       "      <td>WD</td>\n",
       "      <td>174000</td>\n",
       "    </tr>\n",
       "    <tr>\n",
       "      <th>4</th>\n",
       "      <td>255</td>\n",
       "      <td>906425045</td>\n",
       "      <td>50</td>\n",
       "      <td>RL</td>\n",
       "      <td>82.0</td>\n",
       "      <td>14235</td>\n",
       "      <td>Pave</td>\n",
       "      <td>NaN</td>\n",
       "      <td>IR1</td>\n",
       "      <td>Lvl</td>\n",
       "      <td>...</td>\n",
       "      <td>0</td>\n",
       "      <td>0</td>\n",
       "      <td>NaN</td>\n",
       "      <td>NaN</td>\n",
       "      <td>NaN</td>\n",
       "      <td>0</td>\n",
       "      <td>3</td>\n",
       "      <td>2010</td>\n",
       "      <td>WD</td>\n",
       "      <td>138500</td>\n",
       "    </tr>\n",
       "  </tbody>\n",
       "</table>\n",
       "<p>5 rows × 81 columns</p>\n",
       "</div>"
      ],
      "text/plain": [
       "    id        pid  ms_subclass ms_zoning  lot_frontage  lot_area street alley  \\\n",
       "0  109  533352170           60        RL           NaN     13517   Pave   NaN   \n",
       "1  544  531379050           60        RL          43.0     11492   Pave   NaN   \n",
       "2  153  535304180           20        RL          68.0      7922   Pave   NaN   \n",
       "3  318  916386060           60        RL          73.0      9802   Pave   NaN   \n",
       "4  255  906425045           50        RL          82.0     14235   Pave   NaN   \n",
       "\n",
       "  lot_shape land_contour  ... screen_porch pool_area pool_qc fence  \\\n",
       "0       IR1          Lvl  ...            0         0     NaN   NaN   \n",
       "1       IR1          Lvl  ...            0         0     NaN   NaN   \n",
       "2       Reg          Lvl  ...            0         0     NaN   NaN   \n",
       "3       Reg          Lvl  ...            0         0     NaN   NaN   \n",
       "4       IR1          Lvl  ...            0         0     NaN   NaN   \n",
       "\n",
       "  misc_feature misc_val mo_sold yr_sold  sale_type  saleprice  \n",
       "0          NaN        0       3    2010        WD      130500  \n",
       "1          NaN        0       4    2009        WD      220000  \n",
       "2          NaN        0       1    2010        WD      109000  \n",
       "3          NaN        0       4    2010        WD      174000  \n",
       "4          NaN        0       3    2010        WD      138500  \n",
       "\n",
       "[5 rows x 81 columns]"
      ]
     },
     "execution_count": 7,
     "metadata": {},
     "output_type": "execute_result"
    }
   ],
   "source": [
    "clean(train).head()"
   ]
  },
  {
   "cell_type": "code",
   "execution_count": 8,
   "metadata": {},
   "outputs": [],
   "source": [
    "# The 'id' and 'pid' columns are dropped as they do not provide any predictive values for the model\n",
    "\n",
    "train = train.drop(['id', 'pid'], axis = 1)"
   ]
  },
  {
   "cell_type": "code",
   "execution_count": 9,
   "metadata": {},
   "outputs": [
    {
     "data": {
      "text/html": [
       "<div>\n",
       "<style scoped>\n",
       "    .dataframe tbody tr th:only-of-type {\n",
       "        vertical-align: middle;\n",
       "    }\n",
       "\n",
       "    .dataframe tbody tr th {\n",
       "        vertical-align: top;\n",
       "    }\n",
       "\n",
       "    .dataframe thead th {\n",
       "        text-align: right;\n",
       "    }\n",
       "</style>\n",
       "<table border=\"1\" class=\"dataframe\">\n",
       "  <thead>\n",
       "    <tr style=\"text-align: right;\">\n",
       "      <th></th>\n",
       "      <th>ms_subclass</th>\n",
       "      <th>ms_zoning</th>\n",
       "      <th>lot_frontage</th>\n",
       "      <th>lot_area</th>\n",
       "      <th>street</th>\n",
       "      <th>alley</th>\n",
       "      <th>lot_shape</th>\n",
       "      <th>land_contour</th>\n",
       "      <th>utilities</th>\n",
       "      <th>lot_config</th>\n",
       "      <th>...</th>\n",
       "      <th>screen_porch</th>\n",
       "      <th>pool_area</th>\n",
       "      <th>pool_qc</th>\n",
       "      <th>fence</th>\n",
       "      <th>misc_feature</th>\n",
       "      <th>misc_val</th>\n",
       "      <th>mo_sold</th>\n",
       "      <th>yr_sold</th>\n",
       "      <th>sale_type</th>\n",
       "      <th>saleprice</th>\n",
       "    </tr>\n",
       "  </thead>\n",
       "  <tbody>\n",
       "    <tr>\n",
       "      <th>0</th>\n",
       "      <td>60</td>\n",
       "      <td>RL</td>\n",
       "      <td>NaN</td>\n",
       "      <td>13517</td>\n",
       "      <td>Pave</td>\n",
       "      <td>NaN</td>\n",
       "      <td>IR1</td>\n",
       "      <td>Lvl</td>\n",
       "      <td>AllPub</td>\n",
       "      <td>CulDSac</td>\n",
       "      <td>...</td>\n",
       "      <td>0</td>\n",
       "      <td>0</td>\n",
       "      <td>NaN</td>\n",
       "      <td>NaN</td>\n",
       "      <td>NaN</td>\n",
       "      <td>0</td>\n",
       "      <td>3</td>\n",
       "      <td>2010</td>\n",
       "      <td>WD</td>\n",
       "      <td>130500</td>\n",
       "    </tr>\n",
       "    <tr>\n",
       "      <th>1</th>\n",
       "      <td>60</td>\n",
       "      <td>RL</td>\n",
       "      <td>43.0</td>\n",
       "      <td>11492</td>\n",
       "      <td>Pave</td>\n",
       "      <td>NaN</td>\n",
       "      <td>IR1</td>\n",
       "      <td>Lvl</td>\n",
       "      <td>AllPub</td>\n",
       "      <td>CulDSac</td>\n",
       "      <td>...</td>\n",
       "      <td>0</td>\n",
       "      <td>0</td>\n",
       "      <td>NaN</td>\n",
       "      <td>NaN</td>\n",
       "      <td>NaN</td>\n",
       "      <td>0</td>\n",
       "      <td>4</td>\n",
       "      <td>2009</td>\n",
       "      <td>WD</td>\n",
       "      <td>220000</td>\n",
       "    </tr>\n",
       "    <tr>\n",
       "      <th>2</th>\n",
       "      <td>20</td>\n",
       "      <td>RL</td>\n",
       "      <td>68.0</td>\n",
       "      <td>7922</td>\n",
       "      <td>Pave</td>\n",
       "      <td>NaN</td>\n",
       "      <td>Reg</td>\n",
       "      <td>Lvl</td>\n",
       "      <td>AllPub</td>\n",
       "      <td>Inside</td>\n",
       "      <td>...</td>\n",
       "      <td>0</td>\n",
       "      <td>0</td>\n",
       "      <td>NaN</td>\n",
       "      <td>NaN</td>\n",
       "      <td>NaN</td>\n",
       "      <td>0</td>\n",
       "      <td>1</td>\n",
       "      <td>2010</td>\n",
       "      <td>WD</td>\n",
       "      <td>109000</td>\n",
       "    </tr>\n",
       "    <tr>\n",
       "      <th>3</th>\n",
       "      <td>60</td>\n",
       "      <td>RL</td>\n",
       "      <td>73.0</td>\n",
       "      <td>9802</td>\n",
       "      <td>Pave</td>\n",
       "      <td>NaN</td>\n",
       "      <td>Reg</td>\n",
       "      <td>Lvl</td>\n",
       "      <td>AllPub</td>\n",
       "      <td>Inside</td>\n",
       "      <td>...</td>\n",
       "      <td>0</td>\n",
       "      <td>0</td>\n",
       "      <td>NaN</td>\n",
       "      <td>NaN</td>\n",
       "      <td>NaN</td>\n",
       "      <td>0</td>\n",
       "      <td>4</td>\n",
       "      <td>2010</td>\n",
       "      <td>WD</td>\n",
       "      <td>174000</td>\n",
       "    </tr>\n",
       "    <tr>\n",
       "      <th>4</th>\n",
       "      <td>50</td>\n",
       "      <td>RL</td>\n",
       "      <td>82.0</td>\n",
       "      <td>14235</td>\n",
       "      <td>Pave</td>\n",
       "      <td>NaN</td>\n",
       "      <td>IR1</td>\n",
       "      <td>Lvl</td>\n",
       "      <td>AllPub</td>\n",
       "      <td>Inside</td>\n",
       "      <td>...</td>\n",
       "      <td>0</td>\n",
       "      <td>0</td>\n",
       "      <td>NaN</td>\n",
       "      <td>NaN</td>\n",
       "      <td>NaN</td>\n",
       "      <td>0</td>\n",
       "      <td>3</td>\n",
       "      <td>2010</td>\n",
       "      <td>WD</td>\n",
       "      <td>138500</td>\n",
       "    </tr>\n",
       "  </tbody>\n",
       "</table>\n",
       "<p>5 rows × 79 columns</p>\n",
       "</div>"
      ],
      "text/plain": [
       "   ms_subclass ms_zoning  lot_frontage  lot_area street alley lot_shape  \\\n",
       "0           60        RL           NaN     13517   Pave   NaN       IR1   \n",
       "1           60        RL          43.0     11492   Pave   NaN       IR1   \n",
       "2           20        RL          68.0      7922   Pave   NaN       Reg   \n",
       "3           60        RL          73.0      9802   Pave   NaN       Reg   \n",
       "4           50        RL          82.0     14235   Pave   NaN       IR1   \n",
       "\n",
       "  land_contour utilities lot_config  ... screen_porch pool_area pool_qc fence  \\\n",
       "0          Lvl    AllPub    CulDSac  ...            0         0     NaN   NaN   \n",
       "1          Lvl    AllPub    CulDSac  ...            0         0     NaN   NaN   \n",
       "2          Lvl    AllPub     Inside  ...            0         0     NaN   NaN   \n",
       "3          Lvl    AllPub     Inside  ...            0         0     NaN   NaN   \n",
       "4          Lvl    AllPub     Inside  ...            0         0     NaN   NaN   \n",
       "\n",
       "  misc_feature misc_val  mo_sold  yr_sold  sale_type  saleprice  \n",
       "0          NaN        0        3     2010        WD      130500  \n",
       "1          NaN        0        4     2009        WD      220000  \n",
       "2          NaN        0        1     2010        WD      109000  \n",
       "3          NaN        0        4     2010        WD      174000  \n",
       "4          NaN        0        3     2010        WD      138500  \n",
       "\n",
       "[5 rows x 79 columns]"
      ]
     },
     "execution_count": 9,
     "metadata": {},
     "output_type": "execute_result"
    }
   ],
   "source": [
    "train.head()"
   ]
  },
  {
   "cell_type": "markdown",
   "metadata": {},
   "source": [
    "### Dealing with Missing Data\n",
    "\n",
    "Based on the data description, NaN values in certain columns appear to represent the absence of the respective variable, therefore these variables will be identified and have the NaN values replaced by either 0 or 'None'."
   ]
  },
  {
   "cell_type": "code",
   "execution_count": 10,
   "metadata": {},
   "outputs": [],
   "source": [
    "#The function below will be used to find the NaN values within the dataframe and determine the null percentage of the\n",
    "#respective columns.\n",
    "\n",
    "def missing_pct(data):\n",
    "    nan_pct = 100 * train.isnull().sum() / len(train)\n",
    "    nan_pct = nan_pct[nan_pct > 0].sort_values()\n",
    "    return nan_pct"
   ]
  },
  {
   "cell_type": "code",
   "execution_count": 11,
   "metadata": {},
   "outputs": [],
   "source": [
    "pct_nan = missing_pct(train)"
   ]
  },
  {
   "cell_type": "code",
   "execution_count": 12,
   "metadata": {},
   "outputs": [
    {
     "data": {
      "text/plain": [
       "Text(0, 0.5, 'Percentage of Null Values')"
      ]
     },
     "execution_count": 12,
     "metadata": {},
     "output_type": "execute_result"
    },
    {
     "data": {
      "image/png": "[encoded data removed]",
      "text/plain": [
       "<Figure size 720x576 with 1 Axes>"
      ]
     },
     "metadata": {
      "needs_background": "light"
     },
     "output_type": "display_data"
    }
   ],
   "source": [
    "plt.figure(figsize = (10,8))\n",
    "sns.barplot(x = pct_nan.index, y = pct_nan)\n",
    "plt.xticks(rotation = 90)\n",
    "plt.xlabel('Variables')\n",
    "plt.ylabel('Percentage of Null Values')"
   ]
  },
  {
   "cell_type": "markdown",
   "metadata": {},
   "source": [
    "Dealing with missing data within numerical variables:"
   ]
  },
  {
   "cell_type": "code",
   "execution_count": 13,
   "metadata": {},
   "outputs": [],
   "source": [
    "bsmt_num = ['total_bsmt_sf', 'bsmt_unf_sf', 'bsmtfin_sf_2', 'bsmtfin_sf_1', 'bsmt_full_bath', 'bsmt_half_bath']\n",
    "garage_num = ['garage_yr_blt', 'garage_cars', 'garage_area']\n",
    "\n",
    "train[bsmt_num] = train[bsmt_num].fillna(0)\n",
    "train['mas_vnr_area'] = train['mas_vnr_area'].fillna(0)\n",
    "train[garage_num] = train[garage_num].fillna(0)\n",
    "train['lot_frontage'] = train['lot_frontage'].fillna(train['lot_frontage'].mean())"
   ]
  },
  {
   "cell_type": "markdown",
   "metadata": {},
   "source": [
    "Dealing with missing data within categorical variables"
   ]
  },
  {
   "cell_type": "code",
   "execution_count": 14,
   "metadata": {},
   "outputs": [],
   "source": [
    "bsmt_str = ['bsmt_qual', 'bsmt_cond', 'bsmtfin_type_1', 'bsmtfin_type_2', 'bsmt_exposure']\n",
    "garage_str = ['garage_type', 'garage_finish', 'garage_qual', 'garage_cond']\n",
    "\n",
    "train[bsmt_str] = train[bsmt_str].fillna('None')\n",
    "train[garage_str] = train[garage_str].fillna('None')"
   ]
  },
  {
   "cell_type": "code",
   "execution_count": 15,
   "metadata": {},
   "outputs": [],
   "source": [
    "train['mas_vnr_type'] = train['mas_vnr_type'].fillna('None')\n",
    "train['fireplace_qu'] = train['fireplace_qu'].fillna('None')"
   ]
  },
  {
   "cell_type": "markdown",
   "metadata": {},
   "source": [
    "The basement (bsmt) and garage columns are grouped together in their respective categories as a missing value in those rows could represent an absence of the housing feature, therefore the NaNs' are replaced with '0' or 'None'. Similarly, a lack of value within the masonry veneer (mas_vnr) and fireplace columns could indicate its absence, hence the respective numerical and categorical feature with missing values were filled with '0' or 'None'."
   ]
  },
  {
   "cell_type": "code",
   "execution_count": 16,
   "metadata": {},
   "outputs": [],
   "source": [
    "pct_nan = missing_pct(train)"
   ]
  },
  {
   "cell_type": "code",
   "execution_count": 17,
   "metadata": {},
   "outputs": [
    {
     "data": {
      "text/plain": [
       "Text(0, 0.5, 'Percentage of Null Values')"
      ]
     },
     "execution_count": 17,
     "metadata": {},
     "output_type": "execute_result"
    },
    {
     "data": {
      "image/png": "[encoded data removed]",
      "text/plain": [
       "<Figure size 576x360 with 1 Axes>"
      ]
     },
     "metadata": {
      "needs_background": "light"
     },
     "output_type": "display_data"
    }
   ],
   "source": [
    "# Plotting the bar plot to identify the remaining columns with null values to be dealt with.\n",
    "\n",
    "plt.figure(figsize = (8,5))\n",
    "sns.barplot(x = pct_nan.index, y = pct_nan)\n",
    "plt.xticks(rotation = 90)\n",
    "plt.xlabel('Variables')\n",
    "plt.ylabel('Percentage of Null Values')"
   ]
  },
  {
   "cell_type": "code",
   "execution_count": 18,
   "metadata": {},
   "outputs": [
    {
     "data": {
      "text/plain": [
       "fence           80.497318\n",
       "alley           93.174061\n",
       "misc_feature    96.830814\n",
       "pool_qc         99.561190\n",
       "dtype: float64"
      ]
     },
     "execution_count": 18,
     "metadata": {},
     "output_type": "execute_result"
    }
   ],
   "source": [
    "pct_nan"
   ]
  },
  {
   "cell_type": "markdown",
   "metadata": {},
   "source": [
    "Of the remaining variables that still have missing values, there are 4 that have more than 80% of their rows missing, therefore they will not be predictive and contribute to the model. Hence, they will be dropped."
   ]
  },
  {
   "cell_type": "code",
   "execution_count": 19,
   "metadata": {},
   "outputs": [],
   "source": [
    "train = train.drop(['fence', 'alley', 'misc_feature', 'pool_qc'], axis = 1)"
   ]
  },
  {
   "cell_type": "code",
   "execution_count": 20,
   "metadata": {},
   "outputs": [
    {
     "name": "stdout",
     "output_type": "stream",
     "text": [
      "<class 'pandas.core.frame.DataFrame'>\n",
      "RangeIndex: 2051 entries, 0 to 2050\n",
      "Data columns (total 75 columns):\n",
      " #   Column           Non-Null Count  Dtype  \n",
      "---  ------           --------------  -----  \n",
      " 0   ms_subclass      2051 non-null   int64  \n",
      " 1   ms_zoning        2051 non-null   object \n",
      " 2   lot_frontage     2051 non-null   float64\n",
      " 3   lot_area         2051 non-null   int64  \n",
      " 4   street           2051 non-null   object \n",
      " 5   lot_shape        2051 non-null   object \n",
      " 6   land_contour     2051 non-null   object \n",
      " 7   utilities        2051 non-null   object \n",
      " 8   lot_config       2051 non-null   object \n",
      " 9   land_slope       2051 non-null   object \n",
      " 10  neighborhood     2051 non-null   object \n",
      " 11  condition_1      2051 non-null   object \n",
      " 12  condition_2      2051 non-null   object \n",
      " 13  bldg_type        2051 non-null   object \n",
      " 14  house_style      2051 non-null   object \n",
      " 15  overall_qual     2051 non-null   int64  \n",
      " 16  overall_cond     2051 non-null   int64  \n",
      " 17  year_built       2051 non-null   int64  \n",
      " 18  year_remod/add   2051 non-null   int64  \n",
      " 19  roof_style       2051 non-null   object \n",
      " 20  roof_matl        2051 non-null   object \n",
      " 21  exterior_1st     2051 non-null   object \n",
      " 22  exterior_2nd     2051 non-null   object \n",
      " 23  mas_vnr_type     2051 non-null   object \n",
      " 24  mas_vnr_area     2051 non-null   float64\n",
      " 25  exter_qual       2051 non-null   object \n",
      " 26  exter_cond       2051 non-null   object \n",
      " 27  foundation       2051 non-null   object \n",
      " 28  bsmt_qual        2051 non-null   object \n",
      " 29  bsmt_cond        2051 non-null   object \n",
      " 30  bsmt_exposure    2051 non-null   object \n",
      " 31  bsmtfin_type_1   2051 non-null   object \n",
      " 32  bsmtfin_sf_1     2051 non-null   float64\n",
      " 33  bsmtfin_type_2   2051 non-null   object \n",
      " 34  bsmtfin_sf_2     2051 non-null   float64\n",
      " 35  bsmt_unf_sf      2051 non-null   float64\n",
      " 36  total_bsmt_sf    2051 non-null   float64\n",
      " 37  heating          2051 non-null   object \n",
      " 38  heating_qc       2051 non-null   object \n",
      " 39  central_air      2051 non-null   object \n",
      " 40  electrical       2051 non-null   object \n",
      " 41  1st_flr_sf       2051 non-null   int64  \n",
      " 42  2nd_flr_sf       2051 non-null   int64  \n",
      " 43  low_qual_fin_sf  2051 non-null   int64  \n",
      " 44  gr_liv_area      2051 non-null   int64  \n",
      " 45  bsmt_full_bath   2051 non-null   float64\n",
      " 46  bsmt_half_bath   2051 non-null   float64\n",
      " 47  full_bath        2051 non-null   int64  \n",
      " 48  half_bath        2051 non-null   int64  \n",
      " 49  bedroom_abvgr    2051 non-null   int64  \n",
      " 50  kitchen_abvgr    2051 non-null   int64  \n",
      " 51  kitchen_qual     2051 non-null   object \n",
      " 52  totrms_abvgrd    2051 non-null   int64  \n",
      " 53  functional       2051 non-null   object \n",
      " 54  fireplaces       2051 non-null   int64  \n",
      " 55  fireplace_qu     2051 non-null   object \n",
      " 56  garage_type      2051 non-null   object \n",
      " 57  garage_yr_blt    2051 non-null   float64\n",
      " 58  garage_finish    2051 non-null   object \n",
      " 59  garage_cars      2051 non-null   float64\n",
      " 60  garage_area      2051 non-null   float64\n",
      " 61  garage_qual      2051 non-null   object \n",
      " 62  garage_cond      2051 non-null   object \n",
      " 63  paved_drive      2051 non-null   object \n",
      " 64  wood_deck_sf     2051 non-null   int64  \n",
      " 65  open_porch_sf    2051 non-null   int64  \n",
      " 66  enclosed_porch   2051 non-null   int64  \n",
      " 67  3ssn_porch       2051 non-null   int64  \n",
      " 68  screen_porch     2051 non-null   int64  \n",
      " 69  pool_area        2051 non-null   int64  \n",
      " 70  misc_val         2051 non-null   int64  \n",
      " 71  mo_sold          2051 non-null   int64  \n",
      " 72  yr_sold          2051 non-null   int64  \n",
      " 73  sale_type        2051 non-null   object \n",
      " 74  saleprice        2051 non-null   int64  \n",
      "dtypes: float64(11), int64(26), object(38)\n",
      "memory usage: 1.2+ MB\n"
     ]
    }
   ],
   "source": [
    "train.info()"
   ]
  },
  {
   "cell_type": "markdown",
   "metadata": {},
   "source": [
    "With all NaN values in the dataset either replaced or removed, the EDA can proceed."
   ]
  },
  {
   "cell_type": "markdown",
   "metadata": {},
   "source": [
    "## EDA\n",
    "\n",
    "The visualisation, summarisation, and interpretation of the data helps us understand and establish which features would be best to include to facilitate the machine-learning modelling process. In this case, a few visualisations/plots were generated to determine the trend or correlations, and identify outliers (if any)."
   ]
  },
  {
   "cell_type": "markdown",
   "metadata": {},
   "source": [
    "### Heatmap"
   ]
  },
  {
   "cell_type": "code",
   "execution_count": 21,
   "metadata": {},
   "outputs": [
    {
     "data": {
      "text/plain": [
       "<AxesSubplot:>"
      ]
     },
     "execution_count": 21,
     "metadata": {},
     "output_type": "execute_result"
    },
    {
     "data": {
      "image/png": "[encoded data removed]",
      "text/plain": [
       "<Figure size 864x864 with 2 Axes>"
      ]
     },
     "metadata": {
      "needs_background": "light"
     },
     "output_type": "display_data"
    }
   ],
   "source": [
    "plt.figure(figsize = (12,12))\n",
    "sns.heatmap(train.corr(), cmap = 'coolwarm')"
   ]
  },
  {
   "cell_type": "code",
   "execution_count": 22,
   "metadata": {},
   "outputs": [
    {
     "data": {
      "text/plain": [
       "enclosed_porch    -0.135656\n",
       "kitchen_abvgr     -0.125444\n",
       "overall_cond      -0.097019\n",
       "ms_subclass       -0.087335\n",
       "bsmt_half_bath    -0.045290\n",
       "low_qual_fin_sf   -0.041594\n",
       "yr_sold           -0.015203\n",
       "misc_val          -0.007375\n",
       "bsmtfin_sf_2       0.016432\n",
       "pool_area          0.023106\n",
       "mo_sold            0.032735\n",
       "3ssn_porch         0.048732\n",
       "screen_porch       0.134581\n",
       "bedroom_abvgr      0.137067\n",
       "bsmt_unf_sf        0.190861\n",
       "2nd_flr_sf         0.248452\n",
       "garage_yr_blt      0.258645\n",
       "half_bath          0.283001\n",
       "bsmt_full_bath     0.283332\n",
       "lot_area           0.296566\n",
       "lot_frontage       0.325850\n",
       "wood_deck_sf       0.326490\n",
       "open_porch_sf      0.333476\n",
       "bsmtfin_sf_1       0.423856\n",
       "fireplaces         0.471093\n",
       "mas_vnr_area       0.503579\n",
       "totrms_abvgrd      0.504014\n",
       "full_bath          0.537969\n",
       "year_remod/add     0.550370\n",
       "year_built         0.571849\n",
       "1st_flr_sf         0.618486\n",
       "total_bsmt_sf      0.629303\n",
       "garage_cars        0.647781\n",
       "garage_area        0.649897\n",
       "gr_liv_area        0.697038\n",
       "overall_qual       0.800207\n",
       "saleprice          1.000000\n",
       "Name: saleprice, dtype: float64"
      ]
     },
     "execution_count": 22,
     "metadata": {},
     "output_type": "execute_result"
    }
   ],
   "source": [
    "# Identifying the correlations of different features with the sale price of each house.\n",
    "\n",
    "train.corr()['saleprice'].sort_values()"
   ]
  },
  {
   "cell_type": "code",
   "execution_count": 23,
   "metadata": {},
   "outputs": [
    {
     "data": {
      "image/png": "[encoded data removed]",
      "text/plain": [
       "<Figure size 720x576 with 1 Axes>"
      ]
     },
     "metadata": {
      "needs_background": "light"
     },
     "output_type": "display_data"
    }
   ],
   "source": [
    "# Histogram of houses for different price ranges\n",
    "\n",
    "plt.figure(figsize = (10,8))\n",
    "sns.histplot(train.saleprice, kde = True, color = 'Navy', alpha = 0.5, bins = 12)\n",
    "plt.xlabel('Sale Price ($)')\n",
    "plt.grid(axis = 'x', linestyle = '--')"
   ]
  },
  {
   "cell_type": "code",
   "execution_count": 24,
   "metadata": {},
   "outputs": [
    {
     "name": "stderr",
     "output_type": "stream",
     "text": [
      "/Users/tymac/opt/anaconda3/lib/python3.8/site-packages/seaborn/_decorators.py:36: FutureWarning: Pass the following variable as a keyword arg: x. From version 0.12, the only valid positional argument will be `data`, and passing other arguments without an explicit keyword will result in an error or misinterpretation.\n",
      "  warnings.warn(\n"
     ]
    },
    {
     "data": {
      "text/plain": [
       "Text(0.5, 0, 'Sale Price ($)')"
      ]
     },
     "execution_count": 24,
     "metadata": {},
     "output_type": "execute_result"
    },
    {
     "data": {
      "image/png": "[encoded data removed]",
      "text/plain": [
       "<Figure size 720x360 with 1 Axes>"
      ]
     },
     "metadata": {
      "needs_background": "light"
     },
     "output_type": "display_data"
    }
   ],
   "source": [
    "# Boxplot of house sale price to determine the 25th, 50th and 75 percentile data, as well as the minimum and\n",
    "# maximum values.\n",
    "\n",
    "plt.figure(figsize = (10,5))\n",
    "sns.boxplot(train['saleprice'])\n",
    "plt.xlabel('Sale Price ($)')"
   ]
  },
  {
   "cell_type": "code",
   "execution_count": 25,
   "metadata": {},
   "outputs": [
    {
     "data": {
      "image/png": "[encoded data removed]",
      "text/plain": [
       "<Figure size 720x576 with 1 Axes>"
      ]
     },
     "metadata": {
      "needs_background": "light"
     },
     "output_type": "display_data"
    }
   ],
   "source": [
    "# Strip plot between sale price and overall quality, whereby the x-axis consists of the ordinal values.\n",
    "\n",
    "plt.figure(figsize = (10,8))\n",
    "sns.stripplot(x = 'overall_qual', y = 'saleprice',data = train, palette = 'Set2')\n",
    "plt.xlabel('Overall Quality')\n",
    "plt.ylabel('Sale Price ($)')\n",
    "plt.grid(axis = 'y')"
   ]
  },
  {
   "cell_type": "code",
   "execution_count": 26,
   "metadata": {},
   "outputs": [
    {
     "data": {
      "text/plain": [
       "Text(0, 0.5, 'Sale Price ($)')"
      ]
     },
     "execution_count": 26,
     "metadata": {},
     "output_type": "execute_result"
    },
    {
     "data": {
      "image/png": "[encoded data removed]",
      "text/plain": [
       "<Figure size 720x576 with 1 Axes>"
      ]
     },
     "metadata": {
      "needs_background": "light"
     },
     "output_type": "display_data"
    }
   ],
   "source": [
    "# Scatterp plot of sale price vs above ground living area\n",
    "\n",
    "plt.figure(figsize = (10,8))\n",
    "sns.scatterplot(x = 'gr_liv_area', y = 'saleprice',data = train)\n",
    "plt.xlabel('Above Ground Living Area (sqft)')\n",
    "plt.ylabel('Sale Price ($)')"
   ]
  },
  {
   "cell_type": "markdown",
   "metadata": {},
   "source": [
    "As observed within the several plots above, there were a few outliers that stood out from the trend. They do not take up a large percentage of the overall data, hence they will be dropped from the predictive modelling to ensure better accuracy during the modelling process."
   ]
  },
  {
   "cell_type": "markdown",
   "metadata": {},
   "source": [
    "### Dealing with Outliers"
   ]
  },
  {
   "cell_type": "code",
   "execution_count": 27,
   "metadata": {},
   "outputs": [],
   "source": [
    "outlier1 = train[(train['gr_liv_area']>5000) & (train['saleprice']<300000)].index\n",
    "train = train.drop(outlier1, axis = 0)"
   ]
  },
  {
   "cell_type": "code",
   "execution_count": 28,
   "metadata": {},
   "outputs": [],
   "source": [
    "outlier2 = train[(train['overall_qual'] == 9) & (train['saleprice']<200000)].index\n",
    "train = train.drop(outlier2, axis = 0)"
   ]
  },
  {
   "cell_type": "code",
   "execution_count": 29,
   "metadata": {},
   "outputs": [],
   "source": [
    "outlier3 = train[(train['overall_qual'] == 8) & (train['saleprice']>500000)].index\n",
    "train = train.drop(outlier3, axis = 0)"
   ]
  },
  {
   "cell_type": "code",
   "execution_count": 30,
   "metadata": {},
   "outputs": [],
   "source": [
    "outlier4 = train[(train['overall_qual'] == 6) & (train['saleprice']>400000)].index\n",
    "train = train.drop(outlier4, axis = 0)"
   ]
  },
  {
   "cell_type": "markdown",
   "metadata": {},
   "source": [
    "### Getting Dummies\n",
    "\n",
    "The numerical and categorical columns are separated accordingly. This allows for the categorical columns to be dummified all together and converted into a one-hot encoded matrix."
   ]
  },
  {
   "cell_type": "code",
   "execution_count": 31,
   "metadata": {},
   "outputs": [],
   "source": [
    "cat_train = train.select_dtypes(include = 'object')\n",
    "num_train = train.select_dtypes(exclude = 'object')"
   ]
  },
  {
   "cell_type": "code",
   "execution_count": 32,
   "metadata": {},
   "outputs": [
    {
     "name": "stdout",
     "output_type": "stream",
     "text": [
      "<class 'pandas.core.frame.DataFrame'>\n",
      "Int64Index: 2046 entries, 0 to 2050\n",
      "Data columns (total 37 columns):\n",
      " #   Column           Non-Null Count  Dtype  \n",
      "---  ------           --------------  -----  \n",
      " 0   ms_subclass      2046 non-null   int64  \n",
      " 1   lot_frontage     2046 non-null   float64\n",
      " 2   lot_area         2046 non-null   int64  \n",
      " 3   overall_qual     2046 non-null   int64  \n",
      " 4   overall_cond     2046 non-null   int64  \n",
      " 5   year_built       2046 non-null   int64  \n",
      " 6   year_remod/add   2046 non-null   int64  \n",
      " 7   mas_vnr_area     2046 non-null   float64\n",
      " 8   bsmtfin_sf_1     2046 non-null   float64\n",
      " 9   bsmtfin_sf_2     2046 non-null   float64\n",
      " 10  bsmt_unf_sf      2046 non-null   float64\n",
      " 11  total_bsmt_sf    2046 non-null   float64\n",
      " 12  1st_flr_sf       2046 non-null   int64  \n",
      " 13  2nd_flr_sf       2046 non-null   int64  \n",
      " 14  low_qual_fin_sf  2046 non-null   int64  \n",
      " 15  gr_liv_area      2046 non-null   int64  \n",
      " 16  bsmt_full_bath   2046 non-null   float64\n",
      " 17  bsmt_half_bath   2046 non-null   float64\n",
      " 18  full_bath        2046 non-null   int64  \n",
      " 19  half_bath        2046 non-null   int64  \n",
      " 20  bedroom_abvgr    2046 non-null   int64  \n",
      " 21  kitchen_abvgr    2046 non-null   int64  \n",
      " 22  totrms_abvgrd    2046 non-null   int64  \n",
      " 23  fireplaces       2046 non-null   int64  \n",
      " 24  garage_yr_blt    2046 non-null   float64\n",
      " 25  garage_cars      2046 non-null   float64\n",
      " 26  garage_area      2046 non-null   float64\n",
      " 27  wood_deck_sf     2046 non-null   int64  \n",
      " 28  open_porch_sf    2046 non-null   int64  \n",
      " 29  enclosed_porch   2046 non-null   int64  \n",
      " 30  3ssn_porch       2046 non-null   int64  \n",
      " 31  screen_porch     2046 non-null   int64  \n",
      " 32  pool_area        2046 non-null   int64  \n",
      " 33  misc_val         2046 non-null   int64  \n",
      " 34  mo_sold          2046 non-null   int64  \n",
      " 35  yr_sold          2046 non-null   int64  \n",
      " 36  saleprice        2046 non-null   int64  \n",
      "dtypes: float64(11), int64(26)\n",
      "memory usage: 607.4 KB\n"
     ]
    }
   ],
   "source": [
    "num_train.info()"
   ]
  },
  {
   "cell_type": "code",
   "execution_count": 33,
   "metadata": {},
   "outputs": [
    {
     "name": "stdout",
     "output_type": "stream",
     "text": [
      "<class 'pandas.core.frame.DataFrame'>\n",
      "Int64Index: 2046 entries, 0 to 2050\n",
      "Data columns (total 38 columns):\n",
      " #   Column          Non-Null Count  Dtype \n",
      "---  ------          --------------  ----- \n",
      " 0   ms_zoning       2046 non-null   object\n",
      " 1   street          2046 non-null   object\n",
      " 2   lot_shape       2046 non-null   object\n",
      " 3   land_contour    2046 non-null   object\n",
      " 4   utilities       2046 non-null   object\n",
      " 5   lot_config      2046 non-null   object\n",
      " 6   land_slope      2046 non-null   object\n",
      " 7   neighborhood    2046 non-null   object\n",
      " 8   condition_1     2046 non-null   object\n",
      " 9   condition_2     2046 non-null   object\n",
      " 10  bldg_type       2046 non-null   object\n",
      " 11  house_style     2046 non-null   object\n",
      " 12  roof_style      2046 non-null   object\n",
      " 13  roof_matl       2046 non-null   object\n",
      " 14  exterior_1st    2046 non-null   object\n",
      " 15  exterior_2nd    2046 non-null   object\n",
      " 16  mas_vnr_type    2046 non-null   object\n",
      " 17  exter_qual      2046 non-null   object\n",
      " 18  exter_cond      2046 non-null   object\n",
      " 19  foundation      2046 non-null   object\n",
      " 20  bsmt_qual       2046 non-null   object\n",
      " 21  bsmt_cond       2046 non-null   object\n",
      " 22  bsmt_exposure   2046 non-null   object\n",
      " 23  bsmtfin_type_1  2046 non-null   object\n",
      " 24  bsmtfin_type_2  2046 non-null   object\n",
      " 25  heating         2046 non-null   object\n",
      " 26  heating_qc      2046 non-null   object\n",
      " 27  central_air     2046 non-null   object\n",
      " 28  electrical      2046 non-null   object\n",
      " 29  kitchen_qual    2046 non-null   object\n",
      " 30  functional      2046 non-null   object\n",
      " 31  fireplace_qu    2046 non-null   object\n",
      " 32  garage_type     2046 non-null   object\n",
      " 33  garage_finish   2046 non-null   object\n",
      " 34  garage_qual     2046 non-null   object\n",
      " 35  garage_cond     2046 non-null   object\n",
      " 36  paved_drive     2046 non-null   object\n",
      " 37  sale_type       2046 non-null   object\n",
      "dtypes: object(38)\n",
      "memory usage: 623.4+ KB\n"
     ]
    }
   ],
   "source": [
    "cat_train.info()"
   ]
  },
  {
   "cell_type": "code",
   "execution_count": 34,
   "metadata": {},
   "outputs": [],
   "source": [
    "cat_train = pd.get_dummies(cat_train, drop_first = True)"
   ]
  },
  {
   "cell_type": "code",
   "execution_count": 35,
   "metadata": {},
   "outputs": [],
   "source": [
    "final_train = pd.concat([num_train,cat_train], axis = 1)"
   ]
  },
  {
   "cell_type": "code",
   "execution_count": 36,
   "metadata": {},
   "outputs": [
    {
     "data": {
      "text/html": [
       "<div>\n",
       "<style scoped>\n",
       "    .dataframe tbody tr th:only-of-type {\n",
       "        vertical-align: middle;\n",
       "    }\n",
       "\n",
       "    .dataframe tbody tr th {\n",
       "        vertical-align: top;\n",
       "    }\n",
       "\n",
       "    .dataframe thead th {\n",
       "        text-align: right;\n",
       "    }\n",
       "</style>\n",
       "<table border=\"1\" class=\"dataframe\">\n",
       "  <thead>\n",
       "    <tr style=\"text-align: right;\">\n",
       "      <th></th>\n",
       "      <th>ms_subclass</th>\n",
       "      <th>lot_frontage</th>\n",
       "      <th>lot_area</th>\n",
       "      <th>overall_qual</th>\n",
       "      <th>overall_cond</th>\n",
       "      <th>year_built</th>\n",
       "      <th>year_remod/add</th>\n",
       "      <th>mas_vnr_area</th>\n",
       "      <th>bsmtfin_sf_1</th>\n",
       "      <th>bsmtfin_sf_2</th>\n",
       "      <th>...</th>\n",
       "      <th>paved_drive_P</th>\n",
       "      <th>paved_drive_Y</th>\n",
       "      <th>sale_type_CWD</th>\n",
       "      <th>sale_type_Con</th>\n",
       "      <th>sale_type_ConLD</th>\n",
       "      <th>sale_type_ConLI</th>\n",
       "      <th>sale_type_ConLw</th>\n",
       "      <th>sale_type_New</th>\n",
       "      <th>sale_type_Oth</th>\n",
       "      <th>sale_type_WD</th>\n",
       "    </tr>\n",
       "  </thead>\n",
       "  <tbody>\n",
       "    <tr>\n",
       "      <th>0</th>\n",
       "      <td>60</td>\n",
       "      <td>69.0552</td>\n",
       "      <td>13517</td>\n",
       "      <td>6</td>\n",
       "      <td>8</td>\n",
       "      <td>1976</td>\n",
       "      <td>2005</td>\n",
       "      <td>289.0</td>\n",
       "      <td>533.0</td>\n",
       "      <td>0.0</td>\n",
       "      <td>...</td>\n",
       "      <td>0</td>\n",
       "      <td>1</td>\n",
       "      <td>0</td>\n",
       "      <td>0</td>\n",
       "      <td>0</td>\n",
       "      <td>0</td>\n",
       "      <td>0</td>\n",
       "      <td>0</td>\n",
       "      <td>0</td>\n",
       "      <td>1</td>\n",
       "    </tr>\n",
       "    <tr>\n",
       "      <th>1</th>\n",
       "      <td>60</td>\n",
       "      <td>43.0000</td>\n",
       "      <td>11492</td>\n",
       "      <td>7</td>\n",
       "      <td>5</td>\n",
       "      <td>1996</td>\n",
       "      <td>1997</td>\n",
       "      <td>132.0</td>\n",
       "      <td>637.0</td>\n",
       "      <td>0.0</td>\n",
       "      <td>...</td>\n",
       "      <td>0</td>\n",
       "      <td>1</td>\n",
       "      <td>0</td>\n",
       "      <td>0</td>\n",
       "      <td>0</td>\n",
       "      <td>0</td>\n",
       "      <td>0</td>\n",
       "      <td>0</td>\n",
       "      <td>0</td>\n",
       "      <td>1</td>\n",
       "    </tr>\n",
       "    <tr>\n",
       "      <th>2</th>\n",
       "      <td>20</td>\n",
       "      <td>68.0000</td>\n",
       "      <td>7922</td>\n",
       "      <td>5</td>\n",
       "      <td>7</td>\n",
       "      <td>1953</td>\n",
       "      <td>2007</td>\n",
       "      <td>0.0</td>\n",
       "      <td>731.0</td>\n",
       "      <td>0.0</td>\n",
       "      <td>...</td>\n",
       "      <td>0</td>\n",
       "      <td>1</td>\n",
       "      <td>0</td>\n",
       "      <td>0</td>\n",
       "      <td>0</td>\n",
       "      <td>0</td>\n",
       "      <td>0</td>\n",
       "      <td>0</td>\n",
       "      <td>0</td>\n",
       "      <td>1</td>\n",
       "    </tr>\n",
       "    <tr>\n",
       "      <th>3</th>\n",
       "      <td>60</td>\n",
       "      <td>73.0000</td>\n",
       "      <td>9802</td>\n",
       "      <td>5</td>\n",
       "      <td>5</td>\n",
       "      <td>2006</td>\n",
       "      <td>2007</td>\n",
       "      <td>0.0</td>\n",
       "      <td>0.0</td>\n",
       "      <td>0.0</td>\n",
       "      <td>...</td>\n",
       "      <td>0</td>\n",
       "      <td>1</td>\n",
       "      <td>0</td>\n",
       "      <td>0</td>\n",
       "      <td>0</td>\n",
       "      <td>0</td>\n",
       "      <td>0</td>\n",
       "      <td>0</td>\n",
       "      <td>0</td>\n",
       "      <td>1</td>\n",
       "    </tr>\n",
       "    <tr>\n",
       "      <th>4</th>\n",
       "      <td>50</td>\n",
       "      <td>82.0000</td>\n",
       "      <td>14235</td>\n",
       "      <td>6</td>\n",
       "      <td>8</td>\n",
       "      <td>1900</td>\n",
       "      <td>1993</td>\n",
       "      <td>0.0</td>\n",
       "      <td>0.0</td>\n",
       "      <td>0.0</td>\n",
       "      <td>...</td>\n",
       "      <td>0</td>\n",
       "      <td>0</td>\n",
       "      <td>0</td>\n",
       "      <td>0</td>\n",
       "      <td>0</td>\n",
       "      <td>0</td>\n",
       "      <td>0</td>\n",
       "      <td>0</td>\n",
       "      <td>0</td>\n",
       "      <td>1</td>\n",
       "    </tr>\n",
       "    <tr>\n",
       "      <th>...</th>\n",
       "      <td>...</td>\n",
       "      <td>...</td>\n",
       "      <td>...</td>\n",
       "      <td>...</td>\n",
       "      <td>...</td>\n",
       "      <td>...</td>\n",
       "      <td>...</td>\n",
       "      <td>...</td>\n",
       "      <td>...</td>\n",
       "      <td>...</td>\n",
       "      <td>...</td>\n",
       "      <td>...</td>\n",
       "      <td>...</td>\n",
       "      <td>...</td>\n",
       "      <td>...</td>\n",
       "      <td>...</td>\n",
       "      <td>...</td>\n",
       "      <td>...</td>\n",
       "      <td>...</td>\n",
       "      <td>...</td>\n",
       "      <td>...</td>\n",
       "    </tr>\n",
       "    <tr>\n",
       "      <th>2046</th>\n",
       "      <td>20</td>\n",
       "      <td>79.0000</td>\n",
       "      <td>11449</td>\n",
       "      <td>8</td>\n",
       "      <td>5</td>\n",
       "      <td>2007</td>\n",
       "      <td>2007</td>\n",
       "      <td>0.0</td>\n",
       "      <td>1011.0</td>\n",
       "      <td>0.0</td>\n",
       "      <td>...</td>\n",
       "      <td>0</td>\n",
       "      <td>1</td>\n",
       "      <td>0</td>\n",
       "      <td>0</td>\n",
       "      <td>0</td>\n",
       "      <td>0</td>\n",
       "      <td>0</td>\n",
       "      <td>0</td>\n",
       "      <td>0</td>\n",
       "      <td>1</td>\n",
       "    </tr>\n",
       "    <tr>\n",
       "      <th>2047</th>\n",
       "      <td>30</td>\n",
       "      <td>69.0552</td>\n",
       "      <td>12342</td>\n",
       "      <td>4</td>\n",
       "      <td>5</td>\n",
       "      <td>1940</td>\n",
       "      <td>1950</td>\n",
       "      <td>0.0</td>\n",
       "      <td>262.0</td>\n",
       "      <td>0.0</td>\n",
       "      <td>...</td>\n",
       "      <td>0</td>\n",
       "      <td>1</td>\n",
       "      <td>0</td>\n",
       "      <td>0</td>\n",
       "      <td>0</td>\n",
       "      <td>0</td>\n",
       "      <td>0</td>\n",
       "      <td>0</td>\n",
       "      <td>0</td>\n",
       "      <td>1</td>\n",
       "    </tr>\n",
       "    <tr>\n",
       "      <th>2048</th>\n",
       "      <td>50</td>\n",
       "      <td>57.0000</td>\n",
       "      <td>7558</td>\n",
       "      <td>6</td>\n",
       "      <td>6</td>\n",
       "      <td>1928</td>\n",
       "      <td>1950</td>\n",
       "      <td>0.0</td>\n",
       "      <td>0.0</td>\n",
       "      <td>0.0</td>\n",
       "      <td>...</td>\n",
       "      <td>0</td>\n",
       "      <td>1</td>\n",
       "      <td>0</td>\n",
       "      <td>0</td>\n",
       "      <td>0</td>\n",
       "      <td>0</td>\n",
       "      <td>0</td>\n",
       "      <td>0</td>\n",
       "      <td>0</td>\n",
       "      <td>1</td>\n",
       "    </tr>\n",
       "    <tr>\n",
       "      <th>2049</th>\n",
       "      <td>20</td>\n",
       "      <td>80.0000</td>\n",
       "      <td>10400</td>\n",
       "      <td>4</td>\n",
       "      <td>5</td>\n",
       "      <td>1956</td>\n",
       "      <td>1956</td>\n",
       "      <td>0.0</td>\n",
       "      <td>155.0</td>\n",
       "      <td>750.0</td>\n",
       "      <td>...</td>\n",
       "      <td>0</td>\n",
       "      <td>1</td>\n",
       "      <td>0</td>\n",
       "      <td>0</td>\n",
       "      <td>0</td>\n",
       "      <td>0</td>\n",
       "      <td>0</td>\n",
       "      <td>0</td>\n",
       "      <td>0</td>\n",
       "      <td>1</td>\n",
       "    </tr>\n",
       "    <tr>\n",
       "      <th>2050</th>\n",
       "      <td>60</td>\n",
       "      <td>60.0000</td>\n",
       "      <td>7500</td>\n",
       "      <td>7</td>\n",
       "      <td>5</td>\n",
       "      <td>1999</td>\n",
       "      <td>1999</td>\n",
       "      <td>0.0</td>\n",
       "      <td>0.0</td>\n",
       "      <td>0.0</td>\n",
       "      <td>...</td>\n",
       "      <td>0</td>\n",
       "      <td>1</td>\n",
       "      <td>0</td>\n",
       "      <td>0</td>\n",
       "      <td>0</td>\n",
       "      <td>0</td>\n",
       "      <td>0</td>\n",
       "      <td>0</td>\n",
       "      <td>0</td>\n",
       "      <td>1</td>\n",
       "    </tr>\n",
       "  </tbody>\n",
       "</table>\n",
       "<p>2046 rows × 246 columns</p>\n",
       "</div>"
      ],
      "text/plain": [
       "      ms_subclass  lot_frontage  lot_area  overall_qual  overall_cond  \\\n",
       "0              60       69.0552     13517             6             8   \n",
       "1              60       43.0000     11492             7             5   \n",
       "2              20       68.0000      7922             5             7   \n",
       "3              60       73.0000      9802             5             5   \n",
       "4              50       82.0000     14235             6             8   \n",
       "...           ...           ...       ...           ...           ...   \n",
       "2046           20       79.0000     11449             8             5   \n",
       "2047           30       69.0552     12342             4             5   \n",
       "2048           50       57.0000      7558             6             6   \n",
       "2049           20       80.0000     10400             4             5   \n",
       "2050           60       60.0000      7500             7             5   \n",
       "\n",
       "      year_built  year_remod/add  mas_vnr_area  bsmtfin_sf_1  bsmtfin_sf_2  \\\n",
       "0           1976            2005         289.0         533.0           0.0   \n",
       "1           1996            1997         132.0         637.0           0.0   \n",
       "2           1953            2007           0.0         731.0           0.0   \n",
       "3           2006            2007           0.0           0.0           0.0   \n",
       "4           1900            1993           0.0           0.0           0.0   \n",
       "...          ...             ...           ...           ...           ...   \n",
       "2046        2007            2007           0.0        1011.0           0.0   \n",
       "2047        1940            1950           0.0         262.0           0.0   \n",
       "2048        1928            1950           0.0           0.0           0.0   \n",
       "2049        1956            1956           0.0         155.0         750.0   \n",
       "2050        1999            1999           0.0           0.0           0.0   \n",
       "\n",
       "      ...  paved_drive_P  paved_drive_Y  sale_type_CWD  sale_type_Con  \\\n",
       "0     ...              0              1              0              0   \n",
       "1     ...              0              1              0              0   \n",
       "2     ...              0              1              0              0   \n",
       "3     ...              0              1              0              0   \n",
       "4     ...              0              0              0              0   \n",
       "...   ...            ...            ...            ...            ...   \n",
       "2046  ...              0              1              0              0   \n",
       "2047  ...              0              1              0              0   \n",
       "2048  ...              0              1              0              0   \n",
       "2049  ...              0              1              0              0   \n",
       "2050  ...              0              1              0              0   \n",
       "\n",
       "      sale_type_ConLD  sale_type_ConLI  sale_type_ConLw  sale_type_New  \\\n",
       "0                   0                0                0              0   \n",
       "1                   0                0                0              0   \n",
       "2                   0                0                0              0   \n",
       "3                   0                0                0              0   \n",
       "4                   0                0                0              0   \n",
       "...               ...              ...              ...            ...   \n",
       "2046                0                0                0              0   \n",
       "2047                0                0                0              0   \n",
       "2048                0                0                0              0   \n",
       "2049                0                0                0              0   \n",
       "2050                0                0                0              0   \n",
       "\n",
       "      sale_type_Oth  sale_type_WD   \n",
       "0                 0              1  \n",
       "1                 0              1  \n",
       "2                 0              1  \n",
       "3                 0              1  \n",
       "4                 0              1  \n",
       "...             ...            ...  \n",
       "2046              0              1  \n",
       "2047              0              1  \n",
       "2048              0              1  \n",
       "2049              0              1  \n",
       "2050              0              1  \n",
       "\n",
       "[2046 rows x 246 columns]"
      ]
     },
     "execution_count": 36,
     "metadata": {},
     "output_type": "execute_result"
    }
   ],
   "source": [
    "final_train"
   ]
  },
  {
   "cell_type": "code",
   "execution_count": 37,
   "metadata": {},
   "outputs": [
    {
     "data": {
      "text/plain": [
       "enclosed_porch    -0.136106\n",
       "kitchen_abvgr     -0.125666\n",
       "overall_cond      -0.100568\n",
       "ms_subclass       -0.088710\n",
       "bsmt_half_bath    -0.044992\n",
       "low_qual_fin_sf   -0.041532\n",
       "yr_sold           -0.017057\n",
       "misc_val          -0.010051\n",
       "bsmtfin_sf_2       0.017526\n",
       "pool_area          0.026198\n",
       "mo_sold            0.029881\n",
       "3ssn_porch         0.049427\n",
       "screen_porch       0.128787\n",
       "bedroom_abvgr      0.131573\n",
       "bsmt_unf_sf        0.191362\n",
       "2nd_flr_sf         0.240984\n",
       "garage_yr_blt      0.259561\n",
       "half_bath          0.282380\n",
       "bsmt_full_bath     0.285242\n",
       "lot_area           0.293275\n",
       "wood_deck_sf       0.318771\n",
       "open_porch_sf      0.340729\n",
       "lot_frontage       0.344537\n",
       "bsmtfin_sf_1       0.444950\n",
       "fireplaces         0.473326\n",
       "totrms_abvgrd      0.507214\n",
       "mas_vnr_area       0.515349\n",
       "full_bath          0.534581\n",
       "year_remod/add     0.552508\n",
       "year_built         0.576374\n",
       "1st_flr_sf         0.648479\n",
       "garage_cars        0.650047\n",
       "garage_area        0.655364\n",
       "total_bsmt_sf      0.664974\n",
       "gr_liv_area        0.718071\n",
       "overall_qual       0.807954\n",
       "saleprice          1.000000\n",
       "Name: saleprice, dtype: float64"
      ]
     },
     "execution_count": 37,
     "metadata": {},
     "output_type": "execute_result"
    }
   ],
   "source": [
    "train.corr()['saleprice'].sort_values()"
   ]
  },
  {
   "cell_type": "markdown",
   "metadata": {},
   "source": [
    "The correlation of the variables were checked again after the removal of outliers and and it was observed that there were changes when to the correlation values."
   ]
  },
  {
   "cell_type": "markdown",
   "metadata": {},
   "source": [
    "## Exporting Data\n",
    "\n",
    "Exporting cleaned dataset to be used in separate modelling notebook."
   ]
  },
  {
   "cell_type": "code",
   "execution_count": 38,
   "metadata": {},
   "outputs": [],
   "source": [
    "final_train.to_csv('datasets/final_train_cleaned.csv', index = False)"
   ]
  },
  {
   "cell_type": "code",
   "execution_count": null,
   "metadata": {},
   "outputs": [],
   "source": []
  }
 ],
 "metadata": {
  "kernelspec": {
   "display_name": "Python 3",
   "language": "python",
   "name": "python3"
  },
  "language_info": {
   "codemirror_mode": {
    "name": "ipython",
    "version": 3
   },
   "file_extension": ".py",
   "mimetype": "text/x-python",
   "name": "python",
   "nbconvert_exporter": "python",
   "pygments_lexer": "ipython3",
   "version": "3.8.5"
  }
 },
 "nbformat": 4,
 "nbformat_minor": 4
}
