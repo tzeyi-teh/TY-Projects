{
 "cells": [
  {
   "cell_type": "markdown",
   "metadata": {},
   "source": [
    "## Importing Libraries"
   ]
  },
  {
   "cell_type": "code",
   "execution_count": 1,
   "metadata": {},
   "outputs": [],
   "source": [
    "import pandas as pd\n",
    "import numpy as np\n",
    "import seaborn as sns\n",
    "import matplotlib.pyplot as plt\n",
    "\n",
    "from sklearn.linear_model import LinearRegression, LassoCV, RidgeCV\n",
    "from sklearn.preprocessing import PolynomialFeatures, StandardScaler\n",
    "from sklearn.model_selection import train_test_split, cross_val_score, cross_val_predict\n",
    "from sklearn.metrics import r2_score, mean_squared_error\n"
   ]
  },
  {
   "cell_type": "markdown",
   "metadata": {},
   "source": [
    "## Importing Cleaned Dataset"
   ]
  },
  {
   "cell_type": "code",
   "execution_count": 2,
   "metadata": {},
   "outputs": [],
   "source": [
    "train = pd.read_csv('datasets/final_train_cleaned.csv')"
   ]
  },
  {
   "cell_type": "code",
   "execution_count": 3,
   "metadata": {},
   "outputs": [
    {
     "data": {
      "text/html": [
       "<div>\n",
       "<style scoped>\n",
       "    .dataframe tbody tr th:only-of-type {\n",
       "        vertical-align: middle;\n",
       "    }\n",
       "\n",
       "    .dataframe tbody tr th {\n",
       "        vertical-align: top;\n",
       "    }\n",
       "\n",
       "    .dataframe thead th {\n",
       "        text-align: right;\n",
       "    }\n",
       "</style>\n",
       "<table border=\"1\" class=\"dataframe\">\n",
       "  <thead>\n",
       "    <tr style=\"text-align: right;\">\n",
       "      <th></th>\n",
       "      <th>ms_subclass</th>\n",
       "      <th>lot_frontage</th>\n",
       "      <th>lot_area</th>\n",
       "      <th>overall_qual</th>\n",
       "      <th>overall_cond</th>\n",
       "      <th>year_built</th>\n",
       "      <th>year_remod/add</th>\n",
       "      <th>mas_vnr_area</th>\n",
       "      <th>bsmtfin_sf_1</th>\n",
       "      <th>bsmtfin_sf_2</th>\n",
       "      <th>...</th>\n",
       "      <th>paved_drive_P</th>\n",
       "      <th>paved_drive_Y</th>\n",
       "      <th>sale_type_CWD</th>\n",
       "      <th>sale_type_Con</th>\n",
       "      <th>sale_type_ConLD</th>\n",
       "      <th>sale_type_ConLI</th>\n",
       "      <th>sale_type_ConLw</th>\n",
       "      <th>sale_type_New</th>\n",
       "      <th>sale_type_Oth</th>\n",
       "      <th>sale_type_WD</th>\n",
       "    </tr>\n",
       "  </thead>\n",
       "  <tbody>\n",
       "    <tr>\n",
       "      <th>0</th>\n",
       "      <td>60</td>\n",
       "      <td>69.0552</td>\n",
       "      <td>13517</td>\n",
       "      <td>6</td>\n",
       "      <td>8</td>\n",
       "      <td>1976</td>\n",
       "      <td>2005</td>\n",
       "      <td>289.0</td>\n",
       "      <td>533.0</td>\n",
       "      <td>0.0</td>\n",
       "      <td>...</td>\n",
       "      <td>0</td>\n",
       "      <td>1</td>\n",
       "      <td>0</td>\n",
       "      <td>0</td>\n",
       "      <td>0</td>\n",
       "      <td>0</td>\n",
       "      <td>0</td>\n",
       "      <td>0</td>\n",
       "      <td>0</td>\n",
       "      <td>1</td>\n",
       "    </tr>\n",
       "    <tr>\n",
       "      <th>1</th>\n",
       "      <td>60</td>\n",
       "      <td>43.0000</td>\n",
       "      <td>11492</td>\n",
       "      <td>7</td>\n",
       "      <td>5</td>\n",
       "      <td>1996</td>\n",
       "      <td>1997</td>\n",
       "      <td>132.0</td>\n",
       "      <td>637.0</td>\n",
       "      <td>0.0</td>\n",
       "      <td>...</td>\n",
       "      <td>0</td>\n",
       "      <td>1</td>\n",
       "      <td>0</td>\n",
       "      <td>0</td>\n",
       "      <td>0</td>\n",
       "      <td>0</td>\n",
       "      <td>0</td>\n",
       "      <td>0</td>\n",
       "      <td>0</td>\n",
       "      <td>1</td>\n",
       "    </tr>\n",
       "    <tr>\n",
       "      <th>2</th>\n",
       "      <td>20</td>\n",
       "      <td>68.0000</td>\n",
       "      <td>7922</td>\n",
       "      <td>5</td>\n",
       "      <td>7</td>\n",
       "      <td>1953</td>\n",
       "      <td>2007</td>\n",
       "      <td>0.0</td>\n",
       "      <td>731.0</td>\n",
       "      <td>0.0</td>\n",
       "      <td>...</td>\n",
       "      <td>0</td>\n",
       "      <td>1</td>\n",
       "      <td>0</td>\n",
       "      <td>0</td>\n",
       "      <td>0</td>\n",
       "      <td>0</td>\n",
       "      <td>0</td>\n",
       "      <td>0</td>\n",
       "      <td>0</td>\n",
       "      <td>1</td>\n",
       "    </tr>\n",
       "    <tr>\n",
       "      <th>3</th>\n",
       "      <td>60</td>\n",
       "      <td>73.0000</td>\n",
       "      <td>9802</td>\n",
       "      <td>5</td>\n",
       "      <td>5</td>\n",
       "      <td>2006</td>\n",
       "      <td>2007</td>\n",
       "      <td>0.0</td>\n",
       "      <td>0.0</td>\n",
       "      <td>0.0</td>\n",
       "      <td>...</td>\n",
       "      <td>0</td>\n",
       "      <td>1</td>\n",
       "      <td>0</td>\n",
       "      <td>0</td>\n",
       "      <td>0</td>\n",
       "      <td>0</td>\n",
       "      <td>0</td>\n",
       "      <td>0</td>\n",
       "      <td>0</td>\n",
       "      <td>1</td>\n",
       "    </tr>\n",
       "    <tr>\n",
       "      <th>4</th>\n",
       "      <td>50</td>\n",
       "      <td>82.0000</td>\n",
       "      <td>14235</td>\n",
       "      <td>6</td>\n",
       "      <td>8</td>\n",
       "      <td>1900</td>\n",
       "      <td>1993</td>\n",
       "      <td>0.0</td>\n",
       "      <td>0.0</td>\n",
       "      <td>0.0</td>\n",
       "      <td>...</td>\n",
       "      <td>0</td>\n",
       "      <td>0</td>\n",
       "      <td>0</td>\n",
       "      <td>0</td>\n",
       "      <td>0</td>\n",
       "      <td>0</td>\n",
       "      <td>0</td>\n",
       "      <td>0</td>\n",
       "      <td>0</td>\n",
       "      <td>1</td>\n",
       "    </tr>\n",
       "  </tbody>\n",
       "</table>\n",
       "<p>5 rows × 246 columns</p>\n",
       "</div>"
      ],
      "text/plain": [
       "   ms_subclass  lot_frontage  lot_area  overall_qual  overall_cond  \\\n",
       "0           60       69.0552     13517             6             8   \n",
       "1           60       43.0000     11492             7             5   \n",
       "2           20       68.0000      7922             5             7   \n",
       "3           60       73.0000      9802             5             5   \n",
       "4           50       82.0000     14235             6             8   \n",
       "\n",
       "   year_built  year_remod/add  mas_vnr_area  bsmtfin_sf_1  bsmtfin_sf_2  ...  \\\n",
       "0        1976            2005         289.0         533.0           0.0  ...   \n",
       "1        1996            1997         132.0         637.0           0.0  ...   \n",
       "2        1953            2007           0.0         731.0           0.0  ...   \n",
       "3        2006            2007           0.0           0.0           0.0  ...   \n",
       "4        1900            1993           0.0           0.0           0.0  ...   \n",
       "\n",
       "   paved_drive_P  paved_drive_Y  sale_type_CWD  sale_type_Con  \\\n",
       "0              0              1              0              0   \n",
       "1              0              1              0              0   \n",
       "2              0              1              0              0   \n",
       "3              0              1              0              0   \n",
       "4              0              0              0              0   \n",
       "\n",
       "   sale_type_ConLD  sale_type_ConLI  sale_type_ConLw  sale_type_New  \\\n",
       "0                0                0                0              0   \n",
       "1                0                0                0              0   \n",
       "2                0                0                0              0   \n",
       "3                0                0                0              0   \n",
       "4                0                0                0              0   \n",
       "\n",
       "   sale_type_Oth  sale_type_WD   \n",
       "0              0              1  \n",
       "1              0              1  \n",
       "2              0              1  \n",
       "3              0              1  \n",
       "4              0              1  \n",
       "\n",
       "[5 rows x 246 columns]"
      ]
     },
     "execution_count": 3,
     "metadata": {},
     "output_type": "execute_result"
    }
   ],
   "source": [
    "train.head()"
   ]
  },
  {
   "cell_type": "code",
   "execution_count": 4,
   "metadata": {},
   "outputs": [
    {
     "data": {
      "text/plain": [
       "36"
      ]
     },
     "execution_count": 4,
     "metadata": {},
     "output_type": "execute_result"
    }
   ],
   "source": [
    "train.columns.get_loc('saleprice')"
   ]
  },
  {
   "cell_type": "markdown",
   "metadata": {},
   "source": [
    "## Model Preparation\n",
    "\n",
    "Setting up the features matrix (X) and target variable (y) that would be used in the modelling process, and splitting the dataset into a training and testing (holdout) set."
   ]
  },
  {
   "cell_type": "code",
   "execution_count": 5,
   "metadata": {},
   "outputs": [],
   "source": [
    "features = train.drop(train.columns[36], axis = 1)"
   ]
  },
  {
   "cell_type": "code",
   "execution_count": 6,
   "metadata": {},
   "outputs": [],
   "source": [
    "X = features\n",
    "y = train['saleprice']\n",
    "          "
   ]
  },
  {
   "cell_type": "code",
   "execution_count": 7,
   "metadata": {},
   "outputs": [],
   "source": [
    "X_train, X_test, y_train, y_test = train_test_split(X, y, test_size = 0.3)"
   ]
  },
  {
   "cell_type": "code",
   "execution_count": 8,
   "metadata": {},
   "outputs": [],
   "source": [
    "ss = StandardScaler()\n",
    "\n",
    "X_train_sc = ss.fit_transform(X_train)\n",
    "X_test_sc = ss.transform(X_test)"
   ]
  },
  {
   "cell_type": "markdown",
   "metadata": {},
   "source": [
    "### Linear Regression"
   ]
  },
  {
   "cell_type": "code",
   "execution_count": 9,
   "metadata": {},
   "outputs": [],
   "source": [
    "lr = LinearRegression()"
   ]
  },
  {
   "cell_type": "code",
   "execution_count": 10,
   "metadata": {},
   "outputs": [
    {
     "data": {
      "text/plain": [
       "LinearRegression()"
      ]
     },
     "execution_count": 10,
     "metadata": {},
     "output_type": "execute_result"
    }
   ],
   "source": [
    "lr.fit(X_train, y_train)\n",
    "lr.fit(X_test, y_test)"
   ]
  },
  {
   "cell_type": "code",
   "execution_count": 11,
   "metadata": {},
   "outputs": [
    {
     "name": "stdout",
     "output_type": "stream",
     "text": [
      "0.9098256697574406\n",
      "0.8400034144265364\n"
     ]
    }
   ],
   "source": [
    "print(cross_val_score(lr, X_train, y_train, cv = 5).mean())\n",
    "print(cross_val_score(lr, X_test, y_test, cv = 5).mean())"
   ]
  },
  {
   "cell_type": "markdown",
   "metadata": {},
   "source": [
    "Using the Linear Regression model, the scores seem to be exteremely bad, indicating a bad fit of the model to the features. Therefore, the Linear Regression model will be eliminated and not be chosen as the predictive model."
   ]
  },
  {
   "cell_type": "markdown",
   "metadata": {},
   "source": [
    "### Ridge Regression\n",
    "\n",
    "The Ridge Regression model serves to shrink the regression coefficients and penalises the model with large coefficients and helps to avoid overfitting of the model."
   ]
  },
  {
   "cell_type": "code",
   "execution_count": 12,
   "metadata": {},
   "outputs": [],
   "source": [
    "ridge = RidgeCV()"
   ]
  },
  {
   "cell_type": "code",
   "execution_count": 13,
   "metadata": {},
   "outputs": [
    {
     "data": {
      "text/plain": [
       "RidgeCV(alphas=array([ 0.1,  1. , 10. ]))"
      ]
     },
     "execution_count": 13,
     "metadata": {},
     "output_type": "execute_result"
    }
   ],
   "source": [
    "ridge.fit(X_train_sc, y_train)\n",
    "ridge.fit(X_test_sc, y_test)"
   ]
  },
  {
   "cell_type": "code",
   "execution_count": 14,
   "metadata": {},
   "outputs": [
    {
     "name": "stdout",
     "output_type": "stream",
     "text": [
      "0.9157032773115527\n",
      "0.8893822974158943\n"
     ]
    }
   ],
   "source": [
    "print(cross_val_score(ridge, X_train_sc, y_train, cv = 5).mean())\n",
    "print(cross_val_score(ridge, X_test_sc, y_test, cv = 5).mean())"
   ]
  },
  {
   "cell_type": "code",
   "execution_count": 15,
   "metadata": {},
   "outputs": [],
   "source": [
    "ridge_coef = {}\n",
    "for coef, feat in zip(ridge.coef_, X_test):\n",
    "    ridge_coef[feat] = coef"
   ]
  },
  {
   "cell_type": "code",
   "execution_count": 16,
   "metadata": {},
   "outputs": [
    {
     "data": {
      "text/plain": [
       "{'ms_subclass': -4572.184337481449,\n",
       " 'lot_frontage': 5074.599546034393,\n",
       " 'lot_area': 4822.727872849548,\n",
       " 'overall_qual': 11792.408424374782,\n",
       " 'overall_cond': 4937.973776942963,\n",
       " 'year_built': 8954.951817252284,\n",
       " 'year_remod/add': 2754.9093151130037,\n",
       " 'mas_vnr_area': 5018.811839031139,\n",
       " 'bsmtfin_sf_1': 7158.940099930619,\n",
       " 'bsmtfin_sf_2': 1849.6043457368578,\n",
       " 'bsmt_unf_sf': -1810.673772274914,\n",
       " 'total_bsmt_sf': 6369.245382586572,\n",
       " '1st_flr_sf': 11789.459222951617,\n",
       " '2nd_flr_sf': 6466.127518074671,\n",
       " 'low_qual_fin_sf': -173.5799761950202,\n",
       " 'gr_liv_area': 15044.3171892248,\n",
       " 'bsmt_full_bath': -173.49926606128247,\n",
       " 'bsmt_half_bath': -2344.4060856541582,\n",
       " 'full_bath': 5911.2784842594265,\n",
       " 'half_bath': 444.9445349900484,\n",
       " 'bedroom_abvgr': -5932.755474325191,\n",
       " 'kitchen_abvgr': -2336.4427976617953,\n",
       " 'totrms_abvgrd': -128.0615732731385,\n",
       " 'fireplaces': -514.2594703157856,\n",
       " 'garage_yr_blt': 977.9573543458755,\n",
       " 'garage_cars': 3231.621197854469,\n",
       " 'garage_area': 2558.8861114994443,\n",
       " 'wood_deck_sf': 2379.2689504562077,\n",
       " 'open_porch_sf': 759.1153128722508,\n",
       " 'enclosed_porch': 48.959033634877414,\n",
       " '3ssn_porch': -677.8061748961827,\n",
       " 'screen_porch': 1355.468604100799,\n",
       " 'pool_area': 960.5616304896516,\n",
       " 'misc_val': 1666.1610911915668,\n",
       " 'mo_sold': 23.131905443140568,\n",
       " 'yr_sold': -1672.5395429447453,\n",
       " 'ms_zoning_C (all)': -1166.2116064886948,\n",
       " 'ms_zoning_FV': -1155.224079576219,\n",
       " 'ms_zoning_I (all)': 1.7670484276950664e-27,\n",
       " 'ms_zoning_RH': -882.1533588232314,\n",
       " 'ms_zoning_RL': 514.8599157423887,\n",
       " 'ms_zoning_RM': -257.14919795527567,\n",
       " 'street_Pave': 2071.0272041262724,\n",
       " 'lot_shape_IR2': -426.77638722061783,\n",
       " 'lot_shape_IR3': -1405.6188438257486,\n",
       " 'lot_shape_Reg': -358.3060453152002,\n",
       " 'land_contour_HLS': 2468.891744143237,\n",
       " 'land_contour_Low': 123.21965647609977,\n",
       " 'land_contour_Lvl': 1160.2711473497075,\n",
       " 'utilities_NoSeWa': 1.7670484276950664e-27,\n",
       " 'utilities_NoSewr': 1.7670484276950664e-27,\n",
       " 'lot_config_CulDSac': 2320.030497429627,\n",
       " 'lot_config_FR2': -361.14539281981706,\n",
       " 'lot_config_FR3': 0.0,\n",
       " 'lot_config_Inside': 1808.2044884471943,\n",
       " 'land_slope_Mod': 1125.3374935964857,\n",
       " 'land_slope_Sev': -660.1128211349605,\n",
       " 'neighborhood_Blueste': 0.0,\n",
       " 'neighborhood_BrDale': 722.7862706108463,\n",
       " 'neighborhood_BrkSide': 1351.3641203892694,\n",
       " 'neighborhood_ClearCr': -243.70195218435583,\n",
       " 'neighborhood_CollgCr': -2127.230986010947,\n",
       " 'neighborhood_Crawfor': 792.626568318934,\n",
       " 'neighborhood_Edwards': -905.3826209390227,\n",
       " 'neighborhood_Gilbert': -1444.3540750453703,\n",
       " 'neighborhood_Greens': 0.0,\n",
       " 'neighborhood_GrnHill': 0.0,\n",
       " 'neighborhood_IDOTRR': -816.0783158269705,\n",
       " 'neighborhood_Landmrk': -158.81114737954016,\n",
       " 'neighborhood_MeadowV': -359.02910097815766,\n",
       " 'neighborhood_Mitchel': -1045.0822691259054,\n",
       " 'neighborhood_NAmes': -1270.708571002233,\n",
       " 'neighborhood_NPkVill': 1197.7616149628163,\n",
       " 'neighborhood_NWAmes': -3190.321002173474,\n",
       " 'neighborhood_NoRidge': 4367.966114607196,\n",
       " 'neighborhood_NridgHt': 2520.3554517594075,\n",
       " 'neighborhood_OldTown': -2018.6831092465163,\n",
       " 'neighborhood_SWISU': -1225.5876254649083,\n",
       " 'neighborhood_Sawyer': -1762.4403100625018,\n",
       " 'neighborhood_SawyerW': -1294.0255349295549,\n",
       " 'neighborhood_Somerst': 2722.4089732078937,\n",
       " 'neighborhood_StoneBr': 4081.340958083587,\n",
       " 'neighborhood_Timber': -2653.0981331451294,\n",
       " 'neighborhood_Veenker': 361.8858256061267,\n",
       " 'condition_1_Feedr': -1.4495442367551732,\n",
       " 'condition_1_Norm': 2157.381251947524,\n",
       " 'condition_1_PosA': 897.1105740016608,\n",
       " 'condition_1_PosN': 719.2864447937272,\n",
       " 'condition_1_RRAe': -335.53310763410263,\n",
       " 'condition_1_RRAn': -440.12547470708887,\n",
       " 'condition_1_RRNe': 0.0,\n",
       " 'condition_1_RRNn': -1126.169898416828,\n",
       " 'condition_2_Feedr': -2317.0946000417503,\n",
       " 'condition_2_Norm': -1333.096251267648,\n",
       " 'condition_2_PosA': 358.1631950834949,\n",
       " 'condition_2_PosN': 0.0,\n",
       " 'condition_2_RRAe': 1.7670484276950664e-27,\n",
       " 'condition_2_RRAn': 8.835242138475332e-28,\n",
       " 'condition_2_RRNn': -468.4833892447465,\n",
       " 'bldg_type_2fmCon': 265.5357849043794,\n",
       " 'bldg_type_Duplex': -2382.210450110437,\n",
       " 'bldg_type_Twnhs': -2799.527643086474,\n",
       " 'bldg_type_TwnhsE': -3338.224417739606,\n",
       " 'house_style_1.5Unf': -778.2568020220806,\n",
       " 'house_style_1Story': -2370.0853841519997,\n",
       " 'house_style_2.5Fin': -1983.0246146920335,\n",
       " 'house_style_2.5Unf': -211.85230092635902,\n",
       " 'house_style_2Story': 387.157476796473,\n",
       " 'house_style_SFoyer': -1205.0935042793371,\n",
       " 'house_style_SLvl': -676.6316415220463,\n",
       " 'roof_style_Gable': -901.5842277359334,\n",
       " 'roof_style_Gambrel': -1097.748444165256,\n",
       " 'roof_style_Hip': -385.0992941677796,\n",
       " 'roof_style_Mansard': 776.6522993247654,\n",
       " 'roof_style_Shed': 0.0,\n",
       " 'roof_matl_Membran': 468.1391345347442,\n",
       " 'roof_matl_Tar&Grv': 1046.4184657213555,\n",
       " 'roof_matl_WdShake': -497.29184113709766,\n",
       " 'roof_matl_WdShngl': 314.7609458294537,\n",
       " 'exterior_1st_AsphShn': 1.7670484276950664e-27,\n",
       " 'exterior_1st_BrkComm': 0.0,\n",
       " 'exterior_1st_BrkFace': 4112.895868741354,\n",
       " 'exterior_1st_CBlock': 280.97429735242986,\n",
       " 'exterior_1st_CemntBd': 2037.286828601009,\n",
       " 'exterior_1st_HdBoard': 2454.0963652542478,\n",
       " 'exterior_1st_ImStucc': 8.835242138475332e-28,\n",
       " 'exterior_1st_MetalSd': 337.82320461802374,\n",
       " 'exterior_1st_Plywood': 1518.3133347660623,\n",
       " 'exterior_1st_Stone': -1598.530924204687,\n",
       " 'exterior_1st_Stucco': -3437.1438876835764,\n",
       " 'exterior_1st_VinylSd': 664.2179334198263,\n",
       " 'exterior_1st_Wd Sdng': 506.11798789549357,\n",
       " 'exterior_1st_WdShing': 1775.9441659058753,\n",
       " 'exterior_2nd_AsphShn': -611.1817392872831,\n",
       " 'exterior_2nd_Brk Cmn': 1275.4343417876344,\n",
       " 'exterior_2nd_BrkFace': -1758.5035406260208,\n",
       " 'exterior_2nd_CBlock': -869.7081396985693,\n",
       " 'exterior_2nd_CmentBd': 2020.974207801435,\n",
       " 'exterior_2nd_HdBoard': -2122.3303195513536,\n",
       " 'exterior_2nd_ImStucc': -145.15769197429017,\n",
       " 'exterior_2nd_MetalSd': 1418.1414560810917,\n",
       " 'exterior_2nd_Plywood': -742.1616129126196,\n",
       " 'exterior_2nd_Stone': -925.6312639238513,\n",
       " 'exterior_2nd_Stucco': 3588.7049786805273,\n",
       " 'exterior_2nd_VinylSd': 1034.0362735641356,\n",
       " 'exterior_2nd_Wd Sdng': -263.0227484310926,\n",
       " 'exterior_2nd_Wd Shng': -1668.8572252058743,\n",
       " 'mas_vnr_type_BrkFace': 1579.0685560995335,\n",
       " 'mas_vnr_type_None': 4507.716794974011,\n",
       " 'mas_vnr_type_Stone': 1947.500564361324,\n",
       " 'exter_qual_Fa': 973.0125352010236,\n",
       " 'exter_qual_Gd': -5342.304293738382,\n",
       " 'exter_qual_TA': -5597.818090530725,\n",
       " 'exter_cond_Fa': -1613.1334592799922,\n",
       " 'exter_cond_Gd': -999.1211640796173,\n",
       " 'exter_cond_Po': 1.7670484276950664e-27,\n",
       " 'exter_cond_TA': -821.0787429963239,\n",
       " 'foundation_CBlock': -1242.501723417699,\n",
       " 'foundation_PConc': 575.5502406097858,\n",
       " 'foundation_Slab': 1438.8178335263892,\n",
       " 'foundation_Stone': 175.37340013115,\n",
       " 'foundation_Wood': 467.5466126495164,\n",
       " 'bsmt_qual_Fa': -3091.266086559223,\n",
       " 'bsmt_qual_Gd': -8601.0476715693,\n",
       " 'bsmt_qual_None': 12.28482477127909,\n",
       " 'bsmt_qual_Po': 8.835242138475332e-28,\n",
       " 'bsmt_qual_TA': -6637.414743607698,\n",
       " 'bsmt_cond_Fa': -2630.9522328326857,\n",
       " 'bsmt_cond_Gd': 889.8619746780059,\n",
       " 'bsmt_cond_None': 12.28482477127909,\n",
       " 'bsmt_cond_Po': 679.3798669034495,\n",
       " 'bsmt_cond_TA': -369.7865836248743,\n",
       " 'bsmt_exposure_Gd': 3123.921168866007,\n",
       " 'bsmt_exposure_Mn': -2841.6276525027934,\n",
       " 'bsmt_exposure_No': -2432.9547396618946,\n",
       " 'bsmt_exposure_None': -3391.5588396243184,\n",
       " 'bsmtfin_type_1_BLQ': -973.7248680320627,\n",
       " 'bsmtfin_type_1_GLQ': 2283.624536403644,\n",
       " 'bsmtfin_type_1_LwQ': 459.3063229685649,\n",
       " 'bsmtfin_type_1_None': 12.28482477127909,\n",
       " 'bsmtfin_type_1_Rec': 42.291128205988116,\n",
       " 'bsmtfin_type_1_Unf': 469.35227115110683,\n",
       " 'bsmtfin_type_2_BLQ': -442.53156418470553,\n",
       " 'bsmtfin_type_2_GLQ': 2726.131429392961,\n",
       " 'bsmtfin_type_2_LwQ': 74.20624928655889,\n",
       " 'bsmtfin_type_2_None': 12.101581945746148,\n",
       " 'bsmtfin_type_2_Rec': -243.62781046996133,\n",
       " 'bsmtfin_type_2_Unf': -508.32897375863786,\n",
       " 'heating_GasW': 454.96298274553146,\n",
       " 'heating_Grav': -428.50537472095755,\n",
       " 'heating_OthW': -235.0688734638186,\n",
       " 'heating_Wall': 489.1722108542763,\n",
       " 'heating_qc_Fa': -1326.3604987547774,\n",
       " 'heating_qc_Gd': -1541.3577317675008,\n",
       " 'heating_qc_Po': 369.37349842059166,\n",
       " 'heating_qc_TA': -3014.588678287477,\n",
       " 'central_air_Y': -682.1593151370016,\n",
       " 'electrical_FuseF': -1337.8064207722819,\n",
       " 'electrical_FuseP': 1140.4008508396807,\n",
       " 'electrical_Mix': 8.835242138475332e-28,\n",
       " 'electrical_SBrkr': -727.6131570881898,\n",
       " 'kitchen_qual_Fa': -6049.208076084764,\n",
       " 'kitchen_qual_Gd': -8244.784793172514,\n",
       " 'kitchen_qual_TA': -7663.193988732111,\n",
       " 'functional_Maj2': 2554.2111425902917,\n",
       " 'functional_Min1': 3073.3082359492096,\n",
       " 'functional_Min2': 2530.1148309838827,\n",
       " 'functional_Mod': 1918.0502547373453,\n",
       " 'functional_Sal': 1.7670484276950664e-27,\n",
       " 'functional_Sev': 0.0,\n",
       " 'functional_Typ': 8998.256455782986,\n",
       " 'fireplace_qu_Fa': -1454.4475309470436,\n",
       " 'fireplace_qu_Gd': -3067.015911401544,\n",
       " 'fireplace_qu_None': -3615.7411576306185,\n",
       " 'fireplace_qu_Po': -189.11617005861262,\n",
       " 'fireplace_qu_TA': -3280.683563156599,\n",
       " 'garage_type_Attchd': -1527.6931075238535,\n",
       " 'garage_type_Basment': -192.54700594711176,\n",
       " 'garage_type_BuiltIn': 81.634679026698,\n",
       " 'garage_type_CarPort': -25.708665712340007,\n",
       " 'garage_type_Detchd': 1690.5234986764044,\n",
       " 'garage_type_None': 2157.3542106738287,\n",
       " 'garage_finish_None': 589.7230704889698,\n",
       " 'garage_finish_RFn': -1889.2973509035278,\n",
       " 'garage_finish_Unf': -1039.2801747046233,\n",
       " 'garage_qual_Fa': -392.3379232141192,\n",
       " 'garage_qual_Gd': 1163.3820423383004,\n",
       " 'garage_qual_None': 589.7230704889698,\n",
       " 'garage_qual_Po': -75.69302073007111,\n",
       " 'garage_qual_TA': 457.5428614620332,\n",
       " 'garage_cond_Fa': 50.93819819401688,\n",
       " 'garage_cond_Gd': -161.10667600635497,\n",
       " 'garage_cond_None': 589.7230704889698,\n",
       " 'garage_cond_Po': -1920.479101040052,\n",
       " 'garage_cond_TA': 1075.8547164130905,\n",
       " 'paved_drive_P': -829.0518902709227,\n",
       " 'paved_drive_Y': -865.2509728661316,\n",
       " 'sale_type_CWD': 3195.503755568865,\n",
       " 'sale_type_Con': 0.0,\n",
       " 'sale_type_ConLD': -623.7789894163307,\n",
       " 'sale_type_ConLI': 564.5338014436724,\n",
       " 'sale_type_ConLw': -702.6819159003062,\n",
       " 'sale_type_New': 1732.2013737690168,\n",
       " 'sale_type_Oth': 50.46554132853362,\n",
       " 'sale_type_WD ': 1036.9207233004408}"
      ]
     },
     "execution_count": 16,
     "metadata": {},
     "output_type": "execute_result"
    }
   ],
   "source": [
    "ridge_coef"
   ]
  },
  {
   "cell_type": "markdown",
   "metadata": {},
   "source": [
    "Based on the cross validation score, it could be observed that the score of training data model is higher as compared to the testing data with default alpha values. Also since there are not much colinearity between features, there is not much variance that can be exchanged for bias, therefore the training dataset is still overfitted."
   ]
  },
  {
   "cell_type": "markdown",
   "metadata": {},
   "source": [
    "### LASSO Regression"
   ]
  },
  {
   "cell_type": "code",
   "execution_count": 17,
   "metadata": {},
   "outputs": [],
   "source": [
    "lasso = LassoCV()"
   ]
  },
  {
   "cell_type": "code",
   "execution_count": 18,
   "metadata": {},
   "outputs": [
    {
     "data": {
      "text/plain": [
       "LassoCV()"
      ]
     },
     "execution_count": 18,
     "metadata": {},
     "output_type": "execute_result"
    }
   ],
   "source": [
    "lasso.fit(X_train_sc, y_train)\n",
    "lasso.fit(X_test_sc, y_test)"
   ]
  },
  {
   "cell_type": "code",
   "execution_count": 19,
   "metadata": {},
   "outputs": [
    {
     "name": "stdout",
     "output_type": "stream",
     "text": [
      "0.9209872293196104\n",
      "0.9081020234546731\n"
     ]
    }
   ],
   "source": [
    "print(cross_val_score(lasso, X_train_sc, y_train, cv = 5).mean())\n",
    "print(cross_val_score(lasso, X_test_sc, y_test, cv = 5).mean())"
   ]
  },
  {
   "cell_type": "code",
   "execution_count": 20,
   "metadata": {},
   "outputs": [],
   "source": [
    "lasso_coef = {}\n",
    "for coef, feat in zip(lasso.coef_, X_test):\n",
    "    lasso_coef[feat] = coef"
   ]
  },
  {
   "cell_type": "code",
   "execution_count": 21,
   "metadata": {},
   "outputs": [
    {
     "data": {
      "text/plain": [
       "{'ms_subclass': -2889.5789824596745,\n",
       " 'lot_frontage': 4641.195122207569,\n",
       " 'lot_area': 3954.26853060556,\n",
       " 'overall_qual': 14499.186850901237,\n",
       " 'overall_cond': 4553.6437744417735,\n",
       " 'year_built': 9773.210100270879,\n",
       " 'year_remod/add': 2474.7859868932173,\n",
       " 'mas_vnr_area': 4971.468984849654,\n",
       " 'bsmtfin_sf_1': 8294.21381904027,\n",
       " 'bsmtfin_sf_2': 1621.3545229226374,\n",
       " 'bsmt_unf_sf': -0.0,\n",
       " 'total_bsmt_sf': 6684.137537794546,\n",
       " '1st_flr_sf': 2757.6427458446497,\n",
       " '2nd_flr_sf': 0.0,\n",
       " 'low_qual_fin_sf': -578.0361365832264,\n",
       " 'gr_liv_area': 24284.94256271086,\n",
       " 'bsmt_full_bath': 0.0,\n",
       " 'bsmt_half_bath': -515.6761954819036,\n",
       " 'full_bath': 4068.223677510658,\n",
       " 'half_bath': 0.0,\n",
       " 'bedroom_abvgr': -5118.547090516501,\n",
       " 'kitchen_abvgr': -2372.1497362647874,\n",
       " 'totrms_abvgrd': 0.0,\n",
       " 'fireplaces': 0.0,\n",
       " 'garage_yr_blt': -0.0,\n",
       " 'garage_cars': 2072.834433376349,\n",
       " 'garage_area': 2178.561716840264,\n",
       " 'wood_deck_sf': 2453.1942104625386,\n",
       " 'open_porch_sf': 1098.6261598077192,\n",
       " 'enclosed_porch': -0.0,\n",
       " '3ssn_porch': 0.0,\n",
       " 'screen_porch': 1313.3922377997883,\n",
       " 'pool_area': 1130.36033687127,\n",
       " 'misc_val': 0.0,\n",
       " 'mo_sold': -0.0,\n",
       " 'yr_sold': -991.0761373725051,\n",
       " 'ms_zoning_C (all)': -99.5159150883702,\n",
       " 'ms_zoning_FV': 0.0,\n",
       " 'ms_zoning_I (all)': -0.0,\n",
       " 'ms_zoning_RH': 0.0,\n",
       " 'ms_zoning_RL': 0.0,\n",
       " 'ms_zoning_RM': -382.3067644991347,\n",
       " 'street_Pave': 1436.5796690360385,\n",
       " 'lot_shape_IR2': 0.0,\n",
       " 'lot_shape_IR3': -957.4243619350361,\n",
       " 'lot_shape_Reg': -144.7800181407012,\n",
       " 'land_contour_HLS': 1218.8784460537454,\n",
       " 'land_contour_Low': -0.0,\n",
       " 'land_contour_Lvl': -0.0,\n",
       " 'utilities_NoSeWa': -0.0,\n",
       " 'utilities_NoSewr': -0.0,\n",
       " 'lot_config_CulDSac': 1635.2204468853326,\n",
       " 'lot_config_FR2': -0.0,\n",
       " 'lot_config_FR3': 0.0,\n",
       " 'lot_config_Inside': 0.0,\n",
       " 'land_slope_Mod': 941.7479204417017,\n",
       " 'land_slope_Sev': -64.76732202662362,\n",
       " 'neighborhood_Blueste': 0.0,\n",
       " 'neighborhood_BrDale': 29.57951052721185,\n",
       " 'neighborhood_BrkSide': 1670.5224566060508,\n",
       " 'neighborhood_ClearCr': 0.0,\n",
       " 'neighborhood_CollgCr': -0.0,\n",
       " 'neighborhood_Crawfor': 0.0,\n",
       " 'neighborhood_Edwards': -0.0,\n",
       " 'neighborhood_Gilbert': 0.0,\n",
       " 'neighborhood_Greens': 0.0,\n",
       " 'neighborhood_GrnHill': 0.0,\n",
       " 'neighborhood_IDOTRR': -0.0,\n",
       " 'neighborhood_Landmrk': -0.0,\n",
       " 'neighborhood_MeadowV': -0.0,\n",
       " 'neighborhood_Mitchel': -0.0,\n",
       " 'neighborhood_NAmes': -0.0,\n",
       " 'neighborhood_NPkVill': 1306.7132877631143,\n",
       " 'neighborhood_NWAmes': -1897.6671780282848,\n",
       " 'neighborhood_NoRidge': 4973.3804093823,\n",
       " 'neighborhood_NridgHt': 4037.178990916499,\n",
       " 'neighborhood_OldTown': -319.6173345924426,\n",
       " 'neighborhood_SWISU': -0.0,\n",
       " 'neighborhood_Sawyer': -0.0,\n",
       " 'neighborhood_SawyerW': -0.0,\n",
       " 'neighborhood_Somerst': 2058.4717470849887,\n",
       " 'neighborhood_StoneBr': 4467.670207692754,\n",
       " 'neighborhood_Timber': -928.958607813347,\n",
       " 'neighborhood_Veenker': 170.06483647266677,\n",
       " 'condition_1_Feedr': -5.220313759499153,\n",
       " 'condition_1_Norm': 1832.9313218123973,\n",
       " 'condition_1_PosA': 0.0,\n",
       " 'condition_1_PosN': 0.0,\n",
       " 'condition_1_RRAe': -0.0,\n",
       " 'condition_1_RRAn': 0.0,\n",
       " 'condition_1_RRNe': 0.0,\n",
       " 'condition_1_RRNn': -149.21616365594937,\n",
       " 'condition_2_Feedr': -0.0,\n",
       " 'condition_2_Norm': -0.0,\n",
       " 'condition_2_PosA': 681.280686085856,\n",
       " 'condition_2_PosN': 0.0,\n",
       " 'condition_2_RRAe': -0.0,\n",
       " 'condition_2_RRAn': -0.0,\n",
       " 'condition_2_RRNn': 0.0,\n",
       " 'bldg_type_2fmCon': 0.0,\n",
       " 'bldg_type_Duplex': -1040.6925259653121,\n",
       " 'bldg_type_Twnhs': -2255.248839845461,\n",
       " 'bldg_type_TwnhsE': -2677.1232803542275,\n",
       " 'house_style_1.5Unf': -0.0,\n",
       " 'house_style_1Story': -0.0,\n",
       " 'house_style_2.5Fin': -257.9664416740967,\n",
       " 'house_style_2.5Unf': -0.0,\n",
       " 'house_style_2Story': 0.0,\n",
       " 'house_style_SFoyer': -441.0790577659389,\n",
       " 'house_style_SLvl': 0.0,\n",
       " 'roof_style_Gable': -320.5472134127698,\n",
       " 'roof_style_Gambrel': -313.51333757280736,\n",
       " 'roof_style_Hip': 0.0,\n",
       " 'roof_style_Mansard': 0.0,\n",
       " 'roof_style_Shed': 0.0,\n",
       " 'roof_matl_Membran': 0.0,\n",
       " 'roof_matl_Tar&Grv': 288.00071114625354,\n",
       " 'roof_matl_WdShake': -228.13248340111156,\n",
       " 'roof_matl_WdShngl': 199.85243971547348,\n",
       " 'exterior_1st_AsphShn': -0.0,\n",
       " 'exterior_1st_BrkComm': 0.0,\n",
       " 'exterior_1st_BrkFace': 1073.7444815737167,\n",
       " 'exterior_1st_CBlock': -0.0,\n",
       " 'exterior_1st_CemntBd': 2804.020369920431,\n",
       " 'exterior_1st_HdBoard': -0.0,\n",
       " 'exterior_1st_ImStucc': -0.0,\n",
       " 'exterior_1st_MetalSd': 0.0,\n",
       " 'exterior_1st_Plywood': -0.0,\n",
       " 'exterior_1st_Stone': -0.0,\n",
       " 'exterior_1st_Stucco': -0.0,\n",
       " 'exterior_1st_VinylSd': 0.0,\n",
       " 'exterior_1st_Wd Sdng': -0.0,\n",
       " 'exterior_1st_WdShing': 0.0,\n",
       " 'exterior_2nd_AsphShn': -0.0,\n",
       " 'exterior_2nd_Brk Cmn': 0.0,\n",
       " 'exterior_2nd_BrkFace': -0.0,\n",
       " 'exterior_2nd_CBlock': -207.48520143778183,\n",
       " 'exterior_2nd_CmentBd': 0.0,\n",
       " 'exterior_2nd_HdBoard': -859.415533194809,\n",
       " 'exterior_2nd_ImStucc': 0.0,\n",
       " 'exterior_2nd_MetalSd': 420.08519695924383,\n",
       " 'exterior_2nd_Plywood': -157.9040359766233,\n",
       " 'exterior_2nd_Stone': -436.2116787695966,\n",
       " 'exterior_2nd_Stucco': 0.0,\n",
       " 'exterior_2nd_VinylSd': 0.0,\n",
       " 'exterior_2nd_Wd Sdng': -0.0,\n",
       " 'exterior_2nd_Wd Shng': -0.0,\n",
       " 'mas_vnr_type_BrkFace': -1620.6233053551507,\n",
       " 'mas_vnr_type_None': 379.37590932643315,\n",
       " 'mas_vnr_type_Stone': 0.0,\n",
       " 'exter_qual_Fa': 0.0,\n",
       " 'exter_qual_Gd': -1033.7147728657592,\n",
       " 'exter_qual_TA': -2193.7232658286944,\n",
       " 'exter_cond_Fa': -931.6311181431527,\n",
       " 'exter_cond_Gd': 183.6507669348988,\n",
       " 'exter_cond_Po': -0.0,\n",
       " 'exter_cond_TA': -0.0,\n",
       " 'foundation_CBlock': -1257.6060493566906,\n",
       " 'foundation_PConc': 0.0,\n",
       " 'foundation_Slab': 0.0,\n",
       " 'foundation_Stone': 358.5242383505372,\n",
       " 'foundation_Wood': 0.0,\n",
       " 'bsmt_qual_Fa': -1044.1156766419297,\n",
       " 'bsmt_qual_Gd': -7137.037278283566,\n",
       " 'bsmt_qual_None': 0.0,\n",
       " 'bsmt_qual_Po': -0.0,\n",
       " 'bsmt_qual_TA': -3922.2413155049508,\n",
       " 'bsmt_cond_Fa': -569.6233695087367,\n",
       " 'bsmt_cond_Gd': 764.6326527364098,\n",
       " 'bsmt_cond_None': 0.0,\n",
       " 'bsmt_cond_Po': 0.0,\n",
       " 'bsmt_cond_TA': -0.0,\n",
       " 'bsmt_exposure_Gd': 4515.793343452254,\n",
       " 'bsmt_exposure_Mn': -2196.2695653762103,\n",
       " 'bsmt_exposure_No': -1457.324676918255,\n",
       " 'bsmt_exposure_None': -0.0,\n",
       " 'bsmtfin_type_1_BLQ': -795.815173057181,\n",
       " 'bsmtfin_type_1_GLQ': 1576.7512381089068,\n",
       " 'bsmtfin_type_1_LwQ': 0.0,\n",
       " 'bsmtfin_type_1_None': 0.0,\n",
       " 'bsmtfin_type_1_Rec': -0.0,\n",
       " 'bsmtfin_type_1_Unf': -0.0,\n",
       " 'bsmtfin_type_2_BLQ': 0.0,\n",
       " 'bsmtfin_type_2_GLQ': 2410.1245182116954,\n",
       " 'bsmtfin_type_2_LwQ': 0.0,\n",
       " 'bsmtfin_type_2_None': 0.0,\n",
       " 'bsmtfin_type_2_Rec': -0.0,\n",
       " 'bsmtfin_type_2_Unf': -0.0,\n",
       " 'heating_GasW': 211.80661531420586,\n",
       " 'heating_Grav': -778.5958972556386,\n",
       " 'heating_OthW': -304.43133991190746,\n",
       " 'heating_Wall': 403.2961940070638,\n",
       " 'heating_qc_Fa': -716.9521093411142,\n",
       " 'heating_qc_Gd': -1154.0173032392026,\n",
       " 'heating_qc_Po': -0.0,\n",
       " 'heating_qc_TA': -3551.3644108937124,\n",
       " 'central_air_Y': -0.0,\n",
       " 'electrical_FuseF': -0.0,\n",
       " 'electrical_FuseP': 146.44777303396978,\n",
       " 'electrical_Mix': -0.0,\n",
       " 'electrical_SBrkr': -0.0,\n",
       " 'kitchen_qual_Fa': -4405.607618143449,\n",
       " 'kitchen_qual_Gd': -8367.069033533306,\n",
       " 'kitchen_qual_TA': -8080.705927195274,\n",
       " 'functional_Maj2': 0.0,\n",
       " 'functional_Min1': 0.0,\n",
       " 'functional_Min2': 0.0,\n",
       " 'functional_Mod': 0.0,\n",
       " 'functional_Sal': -0.0,\n",
       " 'functional_Sev': 0.0,\n",
       " 'functional_Typ': 3432.6150304509624,\n",
       " 'fireplace_qu_Fa': -0.0,\n",
       " 'fireplace_qu_Gd': 0.0,\n",
       " 'fireplace_qu_None': -0.0,\n",
       " 'fireplace_qu_Po': 429.6536686490125,\n",
       " 'fireplace_qu_TA': -10.867219195552556,\n",
       " 'garage_type_Attchd': -1076.0516639296368,\n",
       " 'garage_type_Basment': -35.55178682148195,\n",
       " 'garage_type_BuiltIn': 0.0,\n",
       " 'garage_type_CarPort': -0.0,\n",
       " 'garage_type_Detchd': 0.0,\n",
       " 'garage_type_None': 928.8134172479581,\n",
       " 'garage_finish_None': 48.10171170604689,\n",
       " 'garage_finish_RFn': -1690.252969885996,\n",
       " 'garage_finish_Unf': -85.37102620446426,\n",
       " 'garage_qual_Fa': -514.4867481751475,\n",
       " 'garage_qual_Gd': 359.70097537989943,\n",
       " 'garage_qual_None': 21.667931300434926,\n",
       " 'garage_qual_Po': -0.0,\n",
       " 'garage_qual_TA': -0.0,\n",
       " 'garage_cond_Fa': -0.0,\n",
       " 'garage_cond_Gd': -0.0,\n",
       " 'garage_cond_None': 0.0,\n",
       " 'garage_cond_Po': -931.045143232857,\n",
       " 'garage_cond_TA': -0.0,\n",
       " 'paved_drive_P': -0.0,\n",
       " 'paved_drive_Y': -0.0,\n",
       " 'sale_type_CWD': 1808.8599935931854,\n",
       " 'sale_type_Con': 0.0,\n",
       " 'sale_type_ConLD': -260.61294355379505,\n",
       " 'sale_type_ConLI': 0.0,\n",
       " 'sale_type_ConLw': -0.0,\n",
       " 'sale_type_New': 1763.5324093598376,\n",
       " 'sale_type_Oth': -0.0,\n",
       " 'sale_type_WD ': 0.0}"
      ]
     },
     "execution_count": 21,
     "metadata": {},
     "output_type": "execute_result"
    }
   ],
   "source": [
    "lasso_coef"
   ]
  },
  {
   "cell_type": "markdown",
   "metadata": {},
   "source": [
    "Based on the cross validation score, it could be observed that the scores of training data and testing data model is similar with default alpha values. As observed from the coefficients, it can be seen that some values have been reduced to 0, essentially dropping the certain features out of the model. As the fit of this model is good as compared to the previous 2, this will be used to predict the housing sale price."
   ]
  },
  {
   "cell_type": "markdown",
   "metadata": {},
   "source": [
    "### Conclusions\n",
    "\n",
    "The Overall Quality, Above Ground Living Area, Built Year, Masonry Veneer Area, and Basement Area seem to be the features that add to the house value the most, while the neighbourhoods Northridge Heights and Stone Brook would have houses that have higher values."
   ]
  },
  {
   "cell_type": "code",
   "execution_count": 22,
   "metadata": {},
   "outputs": [],
   "source": [
    "pred_ridge = ridge.predict(X_test_sc)\n",
    "\n",
    "pred_lasso = lasso.predict(X_test_sc)"
   ]
  },
  {
   "cell_type": "code",
   "execution_count": 23,
   "metadata": {},
   "outputs": [
    {
     "data": {
      "image/png": "[encoded data removed]",
      "text/plain": [
       "<Figure size 720x576 with 1 Axes>"
      ]
     },
     "metadata": {
      "needs_background": "light"
     },
     "output_type": "display_data"
    }
   ],
   "source": [
    "plt.figure(figsize=(10,8))\n",
    "plt.scatter(pred_ridge, y_test,marker = 'x')\n",
    "plt.xlabel('Predicted values')\n",
    "plt.ylabel('Actual values')\n",
    "\n",
    "#Plots x=y line\n",
    "plt.plot([0,np.max(y_test)],[0,np.max(y_test)], c = 'k');"
   ]
  },
  {
   "cell_type": "code",
   "execution_count": 24,
   "metadata": {},
   "outputs": [
    {
     "data": {
      "image/png": "[encoded data removed]",
      "text/plain": [
       "<Figure size 720x576 with 1 Axes>"
      ]
     },
     "metadata": {
      "needs_background": "light"
     },
     "output_type": "display_data"
    }
   ],
   "source": [
    "plt.figure(figsize=(10,8))\n",
    "plt.scatter(pred_lasso, y_test,marker = 'o')\n",
    "plt.xlabel('Predicted values')\n",
    "plt.ylabel('Actual values')\n",
    "\n",
    "#Plots x=y line\n",
    "plt.plot([0,np.max(y_test)],[0,np.max(y_test)], c = 'k');"
   ]
  },
  {
   "cell_type": "markdown",
   "metadata": {},
   "source": [
    "## Exporting Chosen Model for Prediction"
   ]
  },
  {
   "cell_type": "code",
   "execution_count": 25,
   "metadata": {},
   "outputs": [],
   "source": [
    "from joblib import dump, load"
   ]
  },
  {
   "cell_type": "code",
   "execution_count": 26,
   "metadata": {},
   "outputs": [
    {
     "data": {
      "text/plain": [
       "['lasso.joblib']"
      ]
     },
     "execution_count": 26,
     "metadata": {},
     "output_type": "execute_result"
    }
   ],
   "source": [
    "dump(lasso, 'lasso.joblib')"
   ]
  },
  {
   "cell_type": "code",
   "execution_count": null,
   "metadata": {},
   "outputs": [],
   "source": []
  }
 ],
 "metadata": {
  "kernelspec": {
   "display_name": "Python 3",
   "language": "python",
   "name": "python3"
  },
  "language_info": {
   "codemirror_mode": {
    "name": "ipython",
    "version": 3
   },
   "file_extension": ".py",
   "mimetype": "text/x-python",
   "name": "python",
   "nbconvert_exporter": "python",
   "pygments_lexer": "ipython3",
   "version": "3.8.5"
  }
 },
 "nbformat": 4,
 "nbformat_minor": 4
}
